{
 "cells": [
  {
   "cell_type": "code",
   "execution_count": 1,
   "metadata": {},
   "outputs": [],
   "source": [
    "%load_ext autoreload\n",
    "%autoreload 2\n",
    "import pandas as pd\n",
    "import numpy as np\n",
    "import re\n",
    "import rule_utils as ru"
   ]
  },
  {
   "cell_type": "code",
   "execution_count": 2,
   "metadata": {},
   "outputs": [
    {
     "data": {
      "text/html": [
       "<div>\n",
       "<style scoped>\n",
       "    .dataframe tbody tr th:only-of-type {\n",
       "        vertical-align: middle;\n",
       "    }\n",
       "\n",
       "    .dataframe tbody tr th {\n",
       "        vertical-align: top;\n",
       "    }\n",
       "\n",
       "    .dataframe thead th {\n",
       "        text-align: right;\n",
       "    }\n",
       "</style>\n",
       "<table border=\"1\" class=\"dataframe\">\n",
       "  <thead>\n",
       "    <tr style=\"text-align: right;\">\n",
       "      <th></th>\n",
       "      <th>content_id</th>\n",
       "      <th>content</th>\n",
       "      <th>价格</th>\n",
       "      <th>内饰</th>\n",
       "      <th>动力</th>\n",
       "      <th>外观</th>\n",
       "      <th>安全性</th>\n",
       "      <th>操控</th>\n",
       "      <th>油耗</th>\n",
       "      <th>空间</th>\n",
       "      <th>舒适性</th>\n",
       "      <th>配置</th>\n",
       "    </tr>\n",
       "  </thead>\n",
       "  <tbody>\n",
       "    <tr>\n",
       "      <th>0</th>\n",
       "      <td>01DqbWMwRjfBxLYz</td>\n",
       "      <td>自动启停对车没好处，等红灯挂N挡，轻刹车。</td>\n",
       "      <td>9</td>\n",
       "      <td>9</td>\n",
       "      <td>9</td>\n",
       "      <td>9</td>\n",
       "      <td>9</td>\n",
       "      <td>0</td>\n",
       "      <td>9</td>\n",
       "      <td>9</td>\n",
       "      <td>9</td>\n",
       "      <td>9</td>\n",
       "    </tr>\n",
       "    <tr>\n",
       "      <th>1</th>\n",
       "      <td>01X4vSqHci6NPYBy</td>\n",
       "      <td>开的2.0？在西藏动力如何？</td>\n",
       "      <td>9</td>\n",
       "      <td>9</td>\n",
       "      <td>0</td>\n",
       "      <td>9</td>\n",
       "      <td>9</td>\n",
       "      <td>9</td>\n",
       "      <td>9</td>\n",
       "      <td>9</td>\n",
       "      <td>9</td>\n",
       "      <td>9</td>\n",
       "    </tr>\n",
       "  </tbody>\n",
       "</table>\n",
       "</div>"
      ],
      "text/plain": [
       "         content_id                content  价格  内饰  动力  外观  安全性  操控  油耗  空间  \\\n",
       "0  01DqbWMwRjfBxLYz  自动启停对车没好处，等红灯挂N挡，轻刹车。   9   9   9   9    9   0   9   9   \n",
       "1  01X4vSqHci6NPYBy         开的2.0？在西藏动力如何？   9   9   0   9    9   9   9   9   \n",
       "\n",
       "   舒适性  配置  \n",
       "0    9   9  \n",
       "1    9   9  "
      ]
     },
     "execution_count": 2,
     "metadata": {},
     "output_type": "execute_result"
    }
   ],
   "source": [
    "df = pd.read_csv('../data/input.csv')\n",
    "df.head(2)"
   ]
  },
  {
   "cell_type": "markdown",
   "metadata": {},
   "source": [
    "价格 ：in: 1161 not in: 112 out: 177, 1273.\n",
    "内饰：in: 484 not in: 52 out: 109, 536\n",
    "动力：in: 2405 not in: 327 out: 651, 2732.0\n",
    "外观in: 449 not in: 40 out: 135, 489.0\n",
    "安全性\tin: 533 not in: 40 out: 302, 573.\n",
    "操控in: 707 not in: 329 out: 206, 1036.0\t\n",
    "油耗in: 1022 not in: 60 out: 82, 1082.0\n",
    "空间in: 427 not in: 15 out: 124, 442.0\n",
    "舒适性in: 814 not in: 117 out: 497, 931.0\n",
    "配置in: 770 not in: 83 out: 342, 853.0\t"
   ]
  },
  {
   "cell_type": "code",
   "execution_count": 125,
   "metadata": {},
   "outputs": [],
   "source": [
    "actuall_price = df[df['配置']!=9]\n",
    "actual_has = set(actuall_price.index)"
   ]
  },
  {
   "cell_type": "code",
   "execution_count": 168,
   "metadata": {},
   "outputs": [],
   "source": [
    "isprice = ru.match_subject('../rules/config.txt')"
   ]
  },
  {
   "cell_type": "code",
   "execution_count": 169,
   "metadata": {},
   "outputs": [],
   "source": [
    "has_price = df['content'].apply(lambda v: 1 if isprice(v) else 0)"
   ]
  },
  {
   "cell_type": "code",
   "execution_count": 170,
   "metadata": {},
   "outputs": [],
   "source": [
    "pred_has = set(has_price[has_price!=0].index)"
   ]
  },
  {
   "cell_type": "code",
   "execution_count": 171,
   "metadata": {},
   "outputs": [
    {
     "name": "stdout",
     "output_type": "stream",
     "text": [
      "853 1112\n"
     ]
    }
   ],
   "source": [
    "print(len(actual_has), len(pred_has))"
   ]
  },
  {
   "cell_type": "code",
   "execution_count": 172,
   "metadata": {},
   "outputs": [
    {
     "name": "stdout",
     "output_type": "stream",
     "text": [
      "in: 770 not in: 83 out: 342\n"
     ]
    }
   ],
   "source": [
    "print('in:', len(actual_has&pred_has), 'not in:', len(actual_has-pred_has), 'out:', len(pred_has-actual_has))"
   ]
  },
  {
   "cell_type": "code",
   "execution_count": 150,
   "metadata": {},
   "outputs": [],
   "source": []
  },
  {
   "cell_type": "code",
   "execution_count": 173,
   "metadata": {
    "scrolled": true
   },
   "outputs": [],
   "source": [
    "# FP = df.reindex(list(pred_has-actual_has))\n",
    "# for v in FP['content']:\n",
    "#     print(v)"
   ]
  },
  {
   "cell_type": "code",
   "execution_count": 174,
   "metadata": {
    "scrolled": true
   },
   "outputs": [],
   "source": [
    "# TN = df.reindex(list(actual_has-pred_has))\n",
    "# for v in TN['content']:\n",
    "#     print(v)"
   ]
  },
  {
   "cell_type": "markdown",
   "metadata": {},
   "source": [
    "### 测试"
   ]
  },
  {
   "cell_type": "code",
   "execution_count": 175,
   "metadata": {},
   "outputs": [],
   "source": [
    "subjects = {\n",
    "    'price': '价格', \n",
    "    'interior': '内饰', \n",
    "    'power': '动力', \n",
    "    'surface': '外观', \n",
    "    'safety': '安全性', \n",
    "    'operation':'操控', \n",
    "    'gas' : '油耗', \n",
    "    'space': '空间', \n",
    "    'comfort': '舒适性', \n",
    "    'config': '配置'\n",
    "}\n"
   ]
  },
  {
   "cell_type": "code",
   "execution_count": 179,
   "metadata": {},
   "outputs": [],
   "source": [
    "matchers = [(sub, ru.match_subject('../rules/{}.txt'.format(sub))) for sub in subjects]"
   ]
  },
  {
   "cell_type": "code",
   "execution_count": 177,
   "metadata": {},
   "outputs": [
    {
     "data": {
      "text/html": [
       "<div>\n",
       "<style scoped>\n",
       "    .dataframe tbody tr th:only-of-type {\n",
       "        vertical-align: middle;\n",
       "    }\n",
       "\n",
       "    .dataframe tbody tr th {\n",
       "        vertical-align: top;\n",
       "    }\n",
       "\n",
       "    .dataframe thead th {\n",
       "        text-align: right;\n",
       "    }\n",
       "</style>\n",
       "<table border=\"1\" class=\"dataframe\">\n",
       "  <thead>\n",
       "    <tr style=\"text-align: right;\">\n",
       "      <th></th>\n",
       "      <th>content_id</th>\n",
       "      <th>content</th>\n",
       "    </tr>\n",
       "  </thead>\n",
       "  <tbody>\n",
       "    <tr>\n",
       "      <th>0</th>\n",
       "      <td>XuPwKCnA2fqNh5vm</td>\n",
       "      <td>欧蓝德，价格便宜，森林人太贵啦！</td>\n",
       "    </tr>\n",
       "    <tr>\n",
       "      <th>1</th>\n",
       "      <td>2jNbDn85goX3IuPE</td>\n",
       "      <td>楼主什么时候提的车，南昌优惠多少啊</td>\n",
       "    </tr>\n",
       "    <tr>\n",
       "      <th>2</th>\n",
       "      <td>hLgEADQ8sUnvGFK9</td>\n",
       "      <td>吉林，2.5优惠20000，送三年九次保养，贴膜</td>\n",
       "    </tr>\n",
       "    <tr>\n",
       "      <th>3</th>\n",
       "      <td>nZmM7LQsfr03wUaz</td>\n",
       "      <td>便宜2万的豪华特装，实用配制提升，优惠还给力，确实划算。</td>\n",
       "    </tr>\n",
       "    <tr>\n",
       "      <th>4</th>\n",
       "      <td>pwd8MnrthDqLZafe</td>\n",
       "      <td>如果实在想买就等车展期间，优惠2万，我24.98万入的2.5豪</td>\n",
       "    </tr>\n",
       "  </tbody>\n",
       "</table>\n",
       "</div>"
      ],
      "text/plain": [
       "         content_id                          content\n",
       "0  XuPwKCnA2fqNh5vm             欧蓝德，价格便宜，森林人太贵啦！    \n",
       "1  2jNbDn85goX3IuPE                楼主什么时候提的车，南昌优惠多少啊\n",
       "2  hLgEADQ8sUnvGFK9         吉林，2.5优惠20000，送三年九次保养，贴膜\n",
       "3  nZmM7LQsfr03wUaz     便宜2万的豪华特装，实用配制提升，优惠还给力，确实划算。\n",
       "4  pwd8MnrthDqLZafe  如果实在想买就等车展期间，优惠2万，我24.98万入的2.5豪"
      ]
     },
     "execution_count": 177,
     "metadata": {},
     "output_type": "execute_result"
    }
   ],
   "source": [
    "test = pd.read_csv('../data/test_public.csv')\n",
    "test.head(5)"
   ]
  },
  {
   "cell_type": "code",
   "execution_count": 194,
   "metadata": {},
   "outputs": [],
   "source": [
    "with open('../output/rule1.csv', 'w') as f:\n",
    "    first = True\n",
    "    line = '{},{},0,'\n",
    "    f.write('content_id,subject,sentiment_value,sentiment_word')\n",
    "    for index, row in test.iterrows():\n",
    "        has = False\n",
    "        for sub, matcher in matchers:\n",
    "            \n",
    "            if matcher(row['content']):\n",
    "                has = True\n",
    "                value = line.format(row['content_id'], subjects[sub])\n",
    "                f.write('\\n')\n",
    "                f.write(value)\n",
    "        if not has:\n",
    "            value = line.format(row['content_id'], '价格')\n",
    "            f.write('\\n')\n",
    "            f.write(value)\n"
   ]
  },
  {
   "cell_type": "code",
   "execution_count": 191,
   "metadata": {},
   "outputs": [],
   "source": [
    "df = pd.read_csv('../output/rule1.csv', index_col='content_id')\n",
    "output_index = set(df.index)\n",
    "input_index = set(test['content_id'])"
   ]
  },
  {
   "cell_type": "code",
   "execution_count": 192,
   "metadata": {},
   "outputs": [
    {
     "data": {
      "text/plain": [
       "set()"
      ]
     },
     "execution_count": 192,
     "metadata": {},
     "output_type": "execute_result"
    }
   ],
   "source": [
    "input_index - output_index"
   ]
  },
  {
   "cell_type": "code",
   "execution_count": 193,
   "metadata": {},
   "outputs": [],
   "source": [
    "with open('../output/baseline.csv', 'w') as f:\n",
    "    first = True\n",
    "    line = '{},{},0,'\n",
    "    f.write('content_id,subject,sentiment_value,sentiment_word')\n",
    "    for index, row in test.iterrows():\n",
    "        value = line.format(row['content_id'], '价格')\n",
    "        f.write('\\n')\n",
    "        f.write(value)"
   ]
  },
  {
   "cell_type": "code",
   "execution_count": null,
   "metadata": {},
   "outputs": [],
   "source": [
    "with open('../output/rule1v2.csv', 'w') as f:\n",
    "    first = True\n",
    "    line = '{},{},0,'\n",
    "    f.write('content_id,subject,sentiment_value,sentiment_word')\n",
    "    for index, row in test.iterrows():\n",
    "        has = False\n",
    "        for sub, matcher in matchers:\n",
    "            \n",
    "            if matcher(row['content']):\n",
    "                has = True\n",
    "                value = line.format(row['content_id'], subjects[sub])\n",
    "                f.write('\\n')\n",
    "                f.write(value)\n",
    "        if not has:\n",
    "            for sub in subjects.values():\n",
    "                value = line.format(row['content_id'], sub)\n",
    "                f.write('\\n')\n",
    "                f.write(value)\n"
   ]
  }
 ],
 "metadata": {
  "kernelspec": {
   "display_name": "Python 3",
   "language": "python",
   "name": "python3"
  },
  "language_info": {
   "codemirror_mode": {
    "name": "ipython",
    "version": 3
   },
   "file_extension": ".py",
   "mimetype": "text/x-python",
   "name": "python",
   "nbconvert_exporter": "python",
   "pygments_lexer": "ipython3",
   "version": "3.6.4"
  }
 },
 "nbformat": 4,
 "nbformat_minor": 2
}
