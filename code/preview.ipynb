{
 "cells": [
  {
   "cell_type": "code",
   "execution_count": 2,
   "metadata": {},
   "outputs": [],
   "source": [
    "import pandas as pd\n",
    "import numpy as np\n",
    "import jieba\n",
    "from collections import defaultdict\n",
    "from sklearn.feature_extraction.text import CountVectorizer"
   ]
  },
  {
   "cell_type": "markdown",
   "metadata": {},
   "source": [
    "## 将同一个id的多行的数据，变为一行一个id的数据"
   ]
  },
  {
   "cell_type": "markdown",
   "metadata": {},
   "source": [
    "### 四分类"
   ]
  },
  {
   "cell_type": "code",
   "execution_count": 79,
   "metadata": {},
   "outputs": [],
   "source": [
    "def get_deafult3():\n",
    "    return defaultdict(lambda: 3)\n",
    "table = defaultdict(get_deafult3)"
   ]
  },
  {
   "cell_type": "code",
   "execution_count": 80,
   "metadata": {},
   "outputs": [],
   "source": [
    "with open('../data/train.csv', encoding='utf-8') as f:\n",
    "    f.readline()\n",
    "    for line in f.readlines():\n",
    "        content_id, content, subject, sentiment_value, sentiment_word = line.split(',')\n",
    "        table['content'][content_id] = content\n",
    "        table[subject][content_id] = int(sentiment_value)+1\n",
    "        word = 'word_{}'.format(subject)\n",
    "        # table[word][content_id] = sentiment_word"
   ]
  },
  {
   "cell_type": "code",
   "execution_count": 81,
   "metadata": {},
   "outputs": [],
   "source": [
    "df = pd.DataFrame.from_dict(table)"
   ]
  },
  {
   "cell_type": "code",
   "execution_count": 82,
   "metadata": {},
   "outputs": [
    {
     "data": {
      "text/html": [
       "<div>\n",
       "<style scoped>\n",
       "    .dataframe tbody tr th:only-of-type {\n",
       "        vertical-align: middle;\n",
       "    }\n",
       "\n",
       "    .dataframe tbody tr th {\n",
       "        vertical-align: top;\n",
       "    }\n",
       "\n",
       "    .dataframe thead th {\n",
       "        text-align: right;\n",
       "    }\n",
       "</style>\n",
       "<table border=\"1\" class=\"dataframe\">\n",
       "  <thead>\n",
       "    <tr style=\"text-align: right;\">\n",
       "      <th></th>\n",
       "      <th>content</th>\n",
       "      <th>价格</th>\n",
       "      <th>内饰</th>\n",
       "      <th>动力</th>\n",
       "      <th>外观</th>\n",
       "      <th>安全性</th>\n",
       "      <th>操控</th>\n",
       "      <th>油耗</th>\n",
       "      <th>空间</th>\n",
       "      <th>舒适性</th>\n",
       "      <th>配置</th>\n",
       "    </tr>\n",
       "  </thead>\n",
       "  <tbody>\n",
       "    <tr>\n",
       "      <th>01DqbWMwRjfBxLYz</th>\n",
       "      <td>自动启停对车没好处，等红灯挂N挡，轻刹车。</td>\n",
       "      <td>NaN</td>\n",
       "      <td>NaN</td>\n",
       "      <td>NaN</td>\n",
       "      <td>NaN</td>\n",
       "      <td>NaN</td>\n",
       "      <td>1.0</td>\n",
       "      <td>NaN</td>\n",
       "      <td>NaN</td>\n",
       "      <td>NaN</td>\n",
       "      <td>NaN</td>\n",
       "    </tr>\n",
       "    <tr>\n",
       "      <th>01X4vSqHci6NPYBy</th>\n",
       "      <td>开的2.0？在西藏动力如何？</td>\n",
       "      <td>NaN</td>\n",
       "      <td>NaN</td>\n",
       "      <td>1.0</td>\n",
       "      <td>NaN</td>\n",
       "      <td>NaN</td>\n",
       "      <td>NaN</td>\n",
       "      <td>NaN</td>\n",
       "      <td>NaN</td>\n",
       "      <td>NaN</td>\n",
       "      <td>NaN</td>\n",
       "    </tr>\n",
       "  </tbody>\n",
       "</table>\n",
       "</div>"
      ],
      "text/plain": [
       "                                content  价格  内饰   动力  外观  安全性   操控  油耗  空间  \\\n",
       "01DqbWMwRjfBxLYz  自动启停对车没好处，等红灯挂N挡，轻刹车。 NaN NaN  NaN NaN  NaN  1.0 NaN NaN   \n",
       "01X4vSqHci6NPYBy         开的2.0？在西藏动力如何？ NaN NaN  1.0 NaN  NaN  NaN NaN NaN   \n",
       "\n",
       "                  舒适性  配置  \n",
       "01DqbWMwRjfBxLYz  NaN NaN  \n",
       "01X4vSqHci6NPYBy  NaN NaN  "
      ]
     },
     "execution_count": 82,
     "metadata": {},
     "output_type": "execute_result"
    }
   ],
   "source": [
    "df.head(2)"
   ]
  },
  {
   "cell_type": "code",
   "execution_count": 83,
   "metadata": {},
   "outputs": [],
   "source": [
    "df.fillna(3, inplace=True)\n",
    "df.rename_axis('content_id', inplace=True)"
   ]
  },
  {
   "cell_type": "code",
   "execution_count": 84,
   "metadata": {},
   "outputs": [
    {
     "data": {
      "text/html": [
       "<div>\n",
       "<style scoped>\n",
       "    .dataframe tbody tr th:only-of-type {\n",
       "        vertical-align: middle;\n",
       "    }\n",
       "\n",
       "    .dataframe tbody tr th {\n",
       "        vertical-align: top;\n",
       "    }\n",
       "\n",
       "    .dataframe thead th {\n",
       "        text-align: right;\n",
       "    }\n",
       "</style>\n",
       "<table border=\"1\" class=\"dataframe\">\n",
       "  <thead>\n",
       "    <tr style=\"text-align: right;\">\n",
       "      <th></th>\n",
       "      <th>content</th>\n",
       "      <th>价格</th>\n",
       "      <th>内饰</th>\n",
       "      <th>动力</th>\n",
       "      <th>外观</th>\n",
       "      <th>安全性</th>\n",
       "      <th>操控</th>\n",
       "      <th>油耗</th>\n",
       "      <th>空间</th>\n",
       "      <th>舒适性</th>\n",
       "      <th>配置</th>\n",
       "    </tr>\n",
       "    <tr>\n",
       "      <th>content_id</th>\n",
       "      <th></th>\n",
       "      <th></th>\n",
       "      <th></th>\n",
       "      <th></th>\n",
       "      <th></th>\n",
       "      <th></th>\n",
       "      <th></th>\n",
       "      <th></th>\n",
       "      <th></th>\n",
       "      <th></th>\n",
       "      <th></th>\n",
       "    </tr>\n",
       "  </thead>\n",
       "  <tbody>\n",
       "    <tr>\n",
       "      <th>01DqbWMwRjfBxLYz</th>\n",
       "      <td>自动启停对车没好处，等红灯挂N挡，轻刹车。</td>\n",
       "      <td>3.0</td>\n",
       "      <td>3.0</td>\n",
       "      <td>3.0</td>\n",
       "      <td>3.0</td>\n",
       "      <td>3.0</td>\n",
       "      <td>1.0</td>\n",
       "      <td>3.0</td>\n",
       "      <td>3.0</td>\n",
       "      <td>3.0</td>\n",
       "      <td>3.0</td>\n",
       "    </tr>\n",
       "    <tr>\n",
       "      <th>01X4vSqHci6NPYBy</th>\n",
       "      <td>开的2.0？在西藏动力如何？</td>\n",
       "      <td>3.0</td>\n",
       "      <td>3.0</td>\n",
       "      <td>1.0</td>\n",
       "      <td>3.0</td>\n",
       "      <td>3.0</td>\n",
       "      <td>3.0</td>\n",
       "      <td>3.0</td>\n",
       "      <td>3.0</td>\n",
       "      <td>3.0</td>\n",
       "      <td>3.0</td>\n",
       "    </tr>\n",
       "  </tbody>\n",
       "</table>\n",
       "</div>"
      ],
      "text/plain": [
       "                                content   价格   内饰   动力   外观  安全性   操控   油耗  \\\n",
       "content_id                                                                   \n",
       "01DqbWMwRjfBxLYz  自动启停对车没好处，等红灯挂N挡，轻刹车。  3.0  3.0  3.0  3.0  3.0  1.0  3.0   \n",
       "01X4vSqHci6NPYBy         开的2.0？在西藏动力如何？  3.0  3.0  1.0  3.0  3.0  3.0  3.0   \n",
       "\n",
       "                   空间  舒适性   配置  \n",
       "content_id                       \n",
       "01DqbWMwRjfBxLYz  3.0  3.0  3.0  \n",
       "01X4vSqHci6NPYBy  3.0  3.0  3.0  "
      ]
     },
     "execution_count": 84,
     "metadata": {},
     "output_type": "execute_result"
    }
   ],
   "source": [
    "df.head(2)"
   ]
  },
  {
   "cell_type": "code",
   "execution_count": 85,
   "metadata": {},
   "outputs": [],
   "source": [
    "df.to_csv('../data/input4.csv')"
   ]
  },
  {
   "cell_type": "markdown",
   "metadata": {},
   "source": [
    "### 二分类"
   ]
  },
  {
   "cell_type": "code",
   "execution_count": 199,
   "metadata": {},
   "outputs": [],
   "source": [
    "def get_deafult0():\n",
    "    return defaultdict(lambda: 0)\n",
    "table = defaultdict(get_deafult0)"
   ]
  },
  {
   "cell_type": "code",
   "execution_count": 200,
   "metadata": {},
   "outputs": [
    {
     "data": {
      "text/html": [
       "<div>\n",
       "<style scoped>\n",
       "    .dataframe tbody tr th:only-of-type {\n",
       "        vertical-align: middle;\n",
       "    }\n",
       "\n",
       "    .dataframe tbody tr th {\n",
       "        vertical-align: top;\n",
       "    }\n",
       "\n",
       "    .dataframe thead th {\n",
       "        text-align: right;\n",
       "    }\n",
       "</style>\n",
       "<table border=\"1\" class=\"dataframe\">\n",
       "  <thead>\n",
       "    <tr style=\"text-align: right;\">\n",
       "      <th></th>\n",
       "      <th>content</th>\n",
       "      <th>价格</th>\n",
       "      <th>内饰</th>\n",
       "      <th>动力</th>\n",
       "      <th>外观</th>\n",
       "      <th>安全性</th>\n",
       "      <th>操控</th>\n",
       "      <th>油耗</th>\n",
       "      <th>空间</th>\n",
       "      <th>舒适性</th>\n",
       "      <th>配置</th>\n",
       "    </tr>\n",
       "  </thead>\n",
       "  <tbody>\n",
       "    <tr>\n",
       "      <th>01DqbWMwRjfBxLYz</th>\n",
       "      <td>自动启停对车没好处，等红灯挂N挡，轻刹车。</td>\n",
       "      <td>NaN</td>\n",
       "      <td>NaN</td>\n",
       "      <td>NaN</td>\n",
       "      <td>NaN</td>\n",
       "      <td>NaN</td>\n",
       "      <td>1.0</td>\n",
       "      <td>NaN</td>\n",
       "      <td>NaN</td>\n",
       "      <td>NaN</td>\n",
       "      <td>NaN</td>\n",
       "    </tr>\n",
       "    <tr>\n",
       "      <th>01X4vSqHci6NPYBy</th>\n",
       "      <td>开的2.0？在西藏动力如何？</td>\n",
       "      <td>NaN</td>\n",
       "      <td>NaN</td>\n",
       "      <td>1.0</td>\n",
       "      <td>NaN</td>\n",
       "      <td>NaN</td>\n",
       "      <td>NaN</td>\n",
       "      <td>NaN</td>\n",
       "      <td>NaN</td>\n",
       "      <td>NaN</td>\n",
       "      <td>NaN</td>\n",
       "    </tr>\n",
       "  </tbody>\n",
       "</table>\n",
       "</div>"
      ],
      "text/plain": [
       "                                content  价格  内饰   动力  外观  安全性   操控  油耗  空间  \\\n",
       "01DqbWMwRjfBxLYz  自动启停对车没好处，等红灯挂N挡，轻刹车。 NaN NaN  NaN NaN  NaN  1.0 NaN NaN   \n",
       "01X4vSqHci6NPYBy         开的2.0？在西藏动力如何？ NaN NaN  1.0 NaN  NaN  NaN NaN NaN   \n",
       "\n",
       "                  舒适性  配置  \n",
       "01DqbWMwRjfBxLYz  NaN NaN  \n",
       "01X4vSqHci6NPYBy  NaN NaN  "
      ]
     },
     "execution_count": 200,
     "metadata": {},
     "output_type": "execute_result"
    }
   ],
   "source": [
    "with open('../data/train.csv', encoding='utf-8') as f:\n",
    "    f.readline()\n",
    "    for line in f.readlines():\n",
    "        content_id, content, subject, sentiment_value, sentiment_word = line.split(',')\n",
    "        table['content'][content_id] = content\n",
    "        table[subject][content_id] = 1\n",
    "        word = 'word_{}'.format(subject)\n",
    "        # table[word][content_id] = sentiment_word\n",
    "df = pd.DataFrame.from_dict(table)\n",
    "df.head(2)"
   ]
  },
  {
   "cell_type": "code",
   "execution_count": 201,
   "metadata": {},
   "outputs": [
    {
     "data": {
      "text/html": [
       "<div>\n",
       "<style scoped>\n",
       "    .dataframe tbody tr th:only-of-type {\n",
       "        vertical-align: middle;\n",
       "    }\n",
       "\n",
       "    .dataframe tbody tr th {\n",
       "        vertical-align: top;\n",
       "    }\n",
       "\n",
       "    .dataframe thead th {\n",
       "        text-align: right;\n",
       "    }\n",
       "</style>\n",
       "<table border=\"1\" class=\"dataframe\">\n",
       "  <thead>\n",
       "    <tr style=\"text-align: right;\">\n",
       "      <th></th>\n",
       "      <th>content</th>\n",
       "      <th>价格</th>\n",
       "      <th>内饰</th>\n",
       "      <th>动力</th>\n",
       "      <th>外观</th>\n",
       "      <th>安全性</th>\n",
       "      <th>操控</th>\n",
       "      <th>油耗</th>\n",
       "      <th>空间</th>\n",
       "      <th>舒适性</th>\n",
       "      <th>配置</th>\n",
       "    </tr>\n",
       "    <tr>\n",
       "      <th>content_id</th>\n",
       "      <th></th>\n",
       "      <th></th>\n",
       "      <th></th>\n",
       "      <th></th>\n",
       "      <th></th>\n",
       "      <th></th>\n",
       "      <th></th>\n",
       "      <th></th>\n",
       "      <th></th>\n",
       "      <th></th>\n",
       "      <th></th>\n",
       "    </tr>\n",
       "  </thead>\n",
       "  <tbody>\n",
       "    <tr>\n",
       "      <th>01DqbWMwRjfBxLYz</th>\n",
       "      <td>自动启停对车没好处，等红灯挂N挡，轻刹车。</td>\n",
       "      <td>0.0</td>\n",
       "      <td>0.0</td>\n",
       "      <td>0.0</td>\n",
       "      <td>0.0</td>\n",
       "      <td>0.0</td>\n",
       "      <td>1.0</td>\n",
       "      <td>0.0</td>\n",
       "      <td>0.0</td>\n",
       "      <td>0.0</td>\n",
       "      <td>0.0</td>\n",
       "    </tr>\n",
       "    <tr>\n",
       "      <th>01X4vSqHci6NPYBy</th>\n",
       "      <td>开的2.0？在西藏动力如何？</td>\n",
       "      <td>0.0</td>\n",
       "      <td>0.0</td>\n",
       "      <td>1.0</td>\n",
       "      <td>0.0</td>\n",
       "      <td>0.0</td>\n",
       "      <td>0.0</td>\n",
       "      <td>0.0</td>\n",
       "      <td>0.0</td>\n",
       "      <td>0.0</td>\n",
       "      <td>0.0</td>\n",
       "    </tr>\n",
       "  </tbody>\n",
       "</table>\n",
       "</div>"
      ],
      "text/plain": [
       "                                content   价格   内饰   动力   外观  安全性   操控   油耗  \\\n",
       "content_id                                                                   \n",
       "01DqbWMwRjfBxLYz  自动启停对车没好处，等红灯挂N挡，轻刹车。  0.0  0.0  0.0  0.0  0.0  1.0  0.0   \n",
       "01X4vSqHci6NPYBy         开的2.0？在西藏动力如何？  0.0  0.0  1.0  0.0  0.0  0.0  0.0   \n",
       "\n",
       "                   空间  舒适性   配置  \n",
       "content_id                       \n",
       "01DqbWMwRjfBxLYz  0.0  0.0  0.0  \n",
       "01X4vSqHci6NPYBy  0.0  0.0  0.0  "
      ]
     },
     "execution_count": 201,
     "metadata": {},
     "output_type": "execute_result"
    }
   ],
   "source": [
    "df.fillna(0, inplace=True)\n",
    "df.rename_axis('content_id', inplace=True)\n",
    "df.head(2)"
   ]
  },
  {
   "cell_type": "code",
   "execution_count": 202,
   "metadata": {},
   "outputs": [],
   "source": [
    "df.to_csv('../data/input2.csv')"
   ]
  },
  {
   "cell_type": "markdown",
   "metadata": {},
   "source": [
    "不平衡权重"
   ]
  },
  {
   "cell_type": "code",
   "execution_count": 205,
   "metadata": {},
   "outputs": [
    {
     "name": "stdout",
     "output_type": "stream",
     "text": [
      "'价格': 5.512175962293794,\n",
      "'内饰': 14.466417910447761,\n",
      "'动力': 2.034407027818448,\n",
      "'外观': 15.952965235173824,\n",
      "'安全性': 13.467713787085515,\n",
      "'操控': 7.001930501930502,\n",
      "'油耗': 6.66173752310536,\n",
      "'空间': 17.755656108597286,\n",
      "'舒适性': 7.904403866809882,\n",
      "'配置': 8.718640093786636,\n"
     ]
    }
   ],
   "source": [
    "for col in ['价格', '内饰', '动力', '外观', '安全性', '操控', '油耗', '空间', '舒适性', '配置']:\n",
    "    pos = df[df[col]!=0].shape[0]\n",
    "    neg = df.shape[0] - pos\n",
    "    print(\"'{}': {},\".format(col, neg/pos))"
   ]
  },
  {
   "cell_type": "code",
   "execution_count": null,
   "metadata": {},
   "outputs": [],
   "source": [
    "\n",
    "# df = pd.read_csv('../data/train.csv')\n",
    "\n",
    "# df.groupby('subject').describe()"
   ]
  },
  {
   "cell_type": "code",
   "execution_count": null,
   "metadata": {},
   "outputs": [],
   "source": [
    "\n",
    "# word_set = set()\n",
    "\n",
    "\n",
    "# # In[7]:\n",
    "\n",
    "\n",
    "# for line in df['content']:\n",
    "#     words = jieba.cut(line)\n",
    "#     word_set.update(words)\n",
    "\n",
    "\n",
    "# # In[10]:\n",
    "\n",
    "\n",
    "# in_count = 0\n",
    "# with open('../data/merge_sgns_bigram_char300.txt', encoding='utf-8') as f, open('../data/cliped_vec.vec', 'w', encoding='utf-8') as outf:\n",
    "#     f.readline()\n",
    "#     while True:\n",
    "#         line = f.readline()\n",
    "#         if not line:\n",
    "#             break\n",
    "#         try:\n",
    "#             word, vec = line.split(' ', 1)\n",
    "#         except:\n",
    "#             print(line)\n",
    "#             continue\n",
    "#         if word in word_set:\n",
    "#             in_count += 1\n",
    "#             outf.write(line)\n",
    "#         else:\n",
    "#             print(word)\n",
    "# print('total have ', in_count, 'words in word embedding')\n"
   ]
  },
  {
   "cell_type": "markdown",
   "metadata": {},
   "source": [
    "### 得到每个文档中tfidf比较重要的term，去重之后作为０/１特征"
   ]
  },
  {
   "cell_type": "code",
   "execution_count": 25,
   "metadata": {},
   "outputs": [],
   "source": [
    "from sklearn.feature_extraction.text import TfidfTransformer"
   ]
  },
  {
   "cell_type": "code",
   "execution_count": 26,
   "metadata": {},
   "outputs": [
    {
     "data": {
      "text/html": [
       "<div>\n",
       "<style scoped>\n",
       "    .dataframe tbody tr th:only-of-type {\n",
       "        vertical-align: middle;\n",
       "    }\n",
       "\n",
       "    .dataframe tbody tr th {\n",
       "        vertical-align: top;\n",
       "    }\n",
       "\n",
       "    .dataframe thead th {\n",
       "        text-align: right;\n",
       "    }\n",
       "</style>\n",
       "<table border=\"1\" class=\"dataframe\">\n",
       "  <thead>\n",
       "    <tr style=\"text-align: right;\">\n",
       "      <th></th>\n",
       "      <th>content_id</th>\n",
       "      <th>content</th>\n",
       "      <th>价格</th>\n",
       "      <th>内饰</th>\n",
       "      <th>动力</th>\n",
       "      <th>外观</th>\n",
       "      <th>安全性</th>\n",
       "      <th>操控</th>\n",
       "      <th>油耗</th>\n",
       "      <th>空间</th>\n",
       "      <th>舒适性</th>\n",
       "      <th>配置</th>\n",
       "    </tr>\n",
       "  </thead>\n",
       "  <tbody>\n",
       "    <tr>\n",
       "      <th>0</th>\n",
       "      <td>01DqbWMwRjfBxLYz</td>\n",
       "      <td>自动启停对车没好处，等红灯挂N挡，轻刹车。</td>\n",
       "      <td>3.0</td>\n",
       "      <td>3.0</td>\n",
       "      <td>3.0</td>\n",
       "      <td>3.0</td>\n",
       "      <td>3.0</td>\n",
       "      <td>1.0</td>\n",
       "      <td>3.0</td>\n",
       "      <td>3.0</td>\n",
       "      <td>3.0</td>\n",
       "      <td>3.0</td>\n",
       "    </tr>\n",
       "    <tr>\n",
       "      <th>1</th>\n",
       "      <td>01X4vSqHci6NPYBy</td>\n",
       "      <td>开的2.0？在西藏动力如何？</td>\n",
       "      <td>3.0</td>\n",
       "      <td>3.0</td>\n",
       "      <td>1.0</td>\n",
       "      <td>3.0</td>\n",
       "      <td>3.0</td>\n",
       "      <td>3.0</td>\n",
       "      <td>3.0</td>\n",
       "      <td>3.0</td>\n",
       "      <td>3.0</td>\n",
       "      <td>3.0</td>\n",
       "    </tr>\n",
       "    <tr>\n",
       "      <th>2</th>\n",
       "      <td>02VHu4amZkpAGTb7</td>\n",
       "      <td>常用配件价格不贵，跟大众差不多。而且常用配件都有备货，如果不太常用的可能需要等，但也绝不是从...</td>\n",
       "      <td>1.0</td>\n",
       "      <td>3.0</td>\n",
       "      <td>3.0</td>\n",
       "      <td>3.0</td>\n",
       "      <td>3.0</td>\n",
       "      <td>3.0</td>\n",
       "      <td>3.0</td>\n",
       "      <td>3.0</td>\n",
       "      <td>3.0</td>\n",
       "      <td>3.0</td>\n",
       "    </tr>\n",
       "    <tr>\n",
       "      <th>3</th>\n",
       "      <td>038JPMTIu1tRcZ2p</td>\n",
       "      <td>4万公里，悲催的11。。。市区每天办事，堵成汪。 哈哈哈。如果以前的锐志，起码13~14</td>\n",
       "      <td>3.0</td>\n",
       "      <td>3.0</td>\n",
       "      <td>3.0</td>\n",
       "      <td>3.0</td>\n",
       "      <td>3.0</td>\n",
       "      <td>3.0</td>\n",
       "      <td>1.0</td>\n",
       "      <td>3.0</td>\n",
       "      <td>3.0</td>\n",
       "      <td>3.0</td>\n",
       "    </tr>\n",
       "    <tr>\n",
       "      <th>4</th>\n",
       "      <td>03AUEJcWODxb9ZHa</td>\n",
       "      <td>建议最好使用原厂，subaru的发动机的冷却方式更别的车不一样，所以原厂更适合。</td>\n",
       "      <td>3.0</td>\n",
       "      <td>3.0</td>\n",
       "      <td>1.0</td>\n",
       "      <td>3.0</td>\n",
       "      <td>3.0</td>\n",
       "      <td>3.0</td>\n",
       "      <td>3.0</td>\n",
       "      <td>3.0</td>\n",
       "      <td>3.0</td>\n",
       "      <td>3.0</td>\n",
       "    </tr>\n",
       "  </tbody>\n",
       "</table>\n",
       "</div>"
      ],
      "text/plain": [
       "         content_id                                            content   价格  \\\n",
       "0  01DqbWMwRjfBxLYz                              自动启停对车没好处，等红灯挂N挡，轻刹车。  3.0   \n",
       "1  01X4vSqHci6NPYBy                                     开的2.0？在西藏动力如何？  3.0   \n",
       "2  02VHu4amZkpAGTb7  常用配件价格不贵，跟大众差不多。而且常用配件都有备货，如果不太常用的可能需要等，但也绝不是从...  1.0   \n",
       "3  038JPMTIu1tRcZ2p       4万公里，悲催的11。。。市区每天办事，堵成汪。 哈哈哈。如果以前的锐志，起码13~14  3.0   \n",
       "4  03AUEJcWODxb9ZHa        建议最好使用原厂，subaru的发动机的冷却方式更别的车不一样，所以原厂更适合。     3.0   \n",
       "\n",
       "    内饰   动力   外观  安全性   操控   油耗   空间  舒适性   配置  \n",
       "0  3.0  3.0  3.0  3.0  1.0  3.0  3.0  3.0  3.0  \n",
       "1  3.0  1.0  3.0  3.0  3.0  3.0  3.0  3.0  3.0  \n",
       "2  3.0  3.0  3.0  3.0  3.0  3.0  3.0  3.0  3.0  \n",
       "3  3.0  3.0  3.0  3.0  3.0  1.0  3.0  3.0  3.0  \n",
       "4  3.0  1.0  3.0  3.0  3.0  3.0  3.0  3.0  3.0  "
      ]
     },
     "execution_count": 26,
     "metadata": {},
     "output_type": "execute_result"
    }
   ],
   "source": [
    "df = pd.read_csv('../data/input.csv')\n",
    "df.head(5)"
   ]
  },
  {
   "cell_type": "code",
   "execution_count": 27,
   "metadata": {},
   "outputs": [],
   "source": [
    "def load_stopwords(filepath):\n",
    "    with open(filepath, encoding='utf-8') as f:\n",
    "        stops = set([v.strip() for v in f.readlines()])\n",
    "    return stops\n",
    "stops = load_stopwords('../data/stopwords.txt')\n",
    "def seg_stop_merge(text):\n",
    "    words = set(jieba.cut(text))\n",
    "    words -= stops\n",
    "    text = ' '.join(list(words))\n",
    "    return text"
   ]
  },
  {
   "cell_type": "code",
   "execution_count": 28,
   "metadata": {},
   "outputs": [
    {
     "data": {
      "text/html": [
       "<div>\n",
       "<style scoped>\n",
       "    .dataframe tbody tr th:only-of-type {\n",
       "        vertical-align: middle;\n",
       "    }\n",
       "\n",
       "    .dataframe tbody tr th {\n",
       "        vertical-align: top;\n",
       "    }\n",
       "\n",
       "    .dataframe thead th {\n",
       "        text-align: right;\n",
       "    }\n",
       "</style>\n",
       "<table border=\"1\" class=\"dataframe\">\n",
       "  <thead>\n",
       "    <tr style=\"text-align: right;\">\n",
       "      <th></th>\n",
       "      <th>content_id</th>\n",
       "      <th>content</th>\n",
       "    </tr>\n",
       "  </thead>\n",
       "  <tbody>\n",
       "    <tr>\n",
       "      <th>0</th>\n",
       "      <td>XuPwKCnA2fqNh5vm</td>\n",
       "      <td>欧蓝德，价格便宜，森林人太贵啦！</td>\n",
       "    </tr>\n",
       "    <tr>\n",
       "      <th>1</th>\n",
       "      <td>2jNbDn85goX3IuPE</td>\n",
       "      <td>楼主什么时候提的车，南昌优惠多少啊</td>\n",
       "    </tr>\n",
       "    <tr>\n",
       "      <th>2</th>\n",
       "      <td>hLgEADQ8sUnvGFK9</td>\n",
       "      <td>吉林，2.5优惠20000，送三年九次保养，贴膜</td>\n",
       "    </tr>\n",
       "  </tbody>\n",
       "</table>\n",
       "</div>"
      ],
      "text/plain": [
       "         content_id                   content\n",
       "0  XuPwKCnA2fqNh5vm      欧蓝德，价格便宜，森林人太贵啦！    \n",
       "1  2jNbDn85goX3IuPE         楼主什么时候提的车，南昌优惠多少啊\n",
       "2  hLgEADQ8sUnvGFK9  吉林，2.5优惠20000，送三年九次保养，贴膜"
      ]
     },
     "execution_count": 28,
     "metadata": {},
     "output_type": "execute_result"
    }
   ],
   "source": [
    "test_df = pd.read_csv('../data/test_public.csv')\n",
    "test_df.head(3)"
   ]
  },
  {
   "cell_type": "code",
   "execution_count": 29,
   "metadata": {},
   "outputs": [
    {
     "name": "stderr",
     "output_type": "stream",
     "text": [
      "Building prefix dict from the default dictionary ...\n",
      "Loading model from cache /tmp/jieba.cache\n",
      "Loading model cost 0.868 seconds.\n",
      "Prefix dict has been built succesfully.\n"
     ]
    }
   ],
   "source": [
    "train_corpus = df['content'].apply(lambda text: seg_stop_merge(text))"
   ]
  },
  {
   "cell_type": "code",
   "execution_count": 30,
   "metadata": {},
   "outputs": [],
   "source": [
    "test_corpus = test_df['content'].apply(lambda text: seg_stop_merge(text))"
   ]
  },
  {
   "cell_type": "code",
   "execution_count": 31,
   "metadata": {},
   "outputs": [],
   "source": [
    "corpus = pd.concat([train_corpus, test_corpus])"
   ]
  },
  {
   "cell_type": "code",
   "execution_count": 32,
   "metadata": {},
   "outputs": [],
   "source": [
    "vectorizer = CountVectorizer()\n",
    "\n",
    "X = vectorizer.fit_transform(corpus)\n",
    "\n",
    "word = vectorizer.get_feature_names()"
   ]
  },
  {
   "cell_type": "code",
   "execution_count": 35,
   "metadata": {},
   "outputs": [],
   "source": [
    "# X.toarray()"
   ]
  },
  {
   "cell_type": "code",
   "execution_count": 36,
   "metadata": {},
   "outputs": [
    {
     "data": {
      "text/plain": [
       "TfidfTransformer(norm='l2', smooth_idf=True, sublinear_tf=False, use_idf=True)"
      ]
     },
     "execution_count": 36,
     "metadata": {},
     "output_type": "execute_result"
    }
   ],
   "source": [
    "transformer = TfidfTransformer()\n",
    "\n",
    "tfidf = transformer.fit_transform(X)"
   ]
  },
  {
   "cell_type": "code",
   "execution_count": 38,
   "metadata": {},
   "outputs": [],
   "source": [
    "# tfidf.toarray()"
   ]
  },
  {
   "cell_type": "code",
   "execution_count": null,
   "metadata": {
    "scrolled": true
   },
   "outputs": [],
   "source": [
    "term_weights = []\n",
    "word = vectorizer.get_feature_names()#获取词袋模型中的所有词语\n",
    "weight = tfidf.toarray()#将tf-idf矩阵抽取出来，元素a[i][j]表示j词在i类文本中的tf-idf权重\n",
    "for i in range(len(weight)):#打印每类文本的tf-idf词语权重，第一个for遍历所有文本，第二个for便利某一类文本下的词语权重\n",
    "    # print(\"-------这里输出第\",i,u\"类文本的词语tf-idf权重------\")\n",
    "    for j in range(len(word)):\n",
    "        # print(word[j],weight[i][j])\n",
    "        if weight[i][j] > 0:\n",
    "            term_weights.append((word[j], weight[i][j]))\n"
   ]
  },
  {
   "cell_type": "code",
   "execution_count": 40,
   "metadata": {},
   "outputs": [
    {
     "name": "stdout",
     "output_type": "stream",
     "text": [
      "(8290, 12) (2364, 2) (10654,)\n"
     ]
    }
   ],
   "source": [
    "print(df.shape, test_df.shape, corpus.shape)"
   ]
  },
  {
   "cell_type": "code",
   "execution_count": 41,
   "metadata": {},
   "outputs": [],
   "source": [
    "term_weights.sort(key=lambda v:v[1], reverse=True)"
   ]
  },
  {
   "cell_type": "code",
   "execution_count": 42,
   "metadata": {},
   "outputs": [
    {
     "data": {
      "text/plain": [
       "101234"
      ]
     },
     "execution_count": 42,
     "metadata": {},
     "output_type": "execute_result"
    }
   ],
   "source": [
    "len(term_weights)"
   ]
  },
  {
   "cell_type": "code",
   "execution_count": 43,
   "metadata": {},
   "outputs": [],
   "source": [
    "import re\n",
    "# alphanum = re.compile('[a-zA-Z0-9]')\n",
    "alphanum = re.compile('[a-zA-Z]')"
   ]
  },
  {
   "cell_type": "code",
   "execution_count": 44,
   "metadata": {},
   "outputs": [],
   "source": [
    "# important_words = set(v[0] for v, _ in zip(term_weights, range(3000)) if not alphanum.search(v[0]))\n",
    "important_words = set(v[0] for v in term_weights if not alphanum.search(v[0]))"
   ]
  },
  {
   "cell_type": "code",
   "execution_count": 45,
   "metadata": {},
   "outputs": [],
   "source": [
    "# 0 in important_words"
   ]
  },
  {
   "cell_type": "code",
   "execution_count": 46,
   "metadata": {},
   "outputs": [
    {
     "data": {
      "text/plain": [
       "16324"
      ]
     },
     "execution_count": 46,
     "metadata": {},
     "output_type": "execute_result"
    }
   ],
   "source": [
    "len(important_words)"
   ]
  },
  {
   "cell_type": "code",
   "execution_count": 47,
   "metadata": {},
   "outputs": [],
   "source": [
    "with open('../data/tfidf1.txt', 'w', encoding='utf-8') as f:\n",
    "    first = True\n",
    "    for w in important_words:\n",
    "        if first:\n",
    "            first = False\n",
    "        else:\n",
    "            f.write('\\n')\n",
    "        f.write(w)\n",
    "    "
   ]
  },
  {
   "cell_type": "code",
   "execution_count": 48,
   "metadata": {},
   "outputs": [],
   "source": [
    "with open('../data/tfidf1.txt', encoding='utf-8') as f:\n",
    "    important_words = [line.strip() for line in f.readlines()]"
   ]
  },
  {
   "cell_type": "code",
   "execution_count": 49,
   "metadata": {},
   "outputs": [],
   "source": [
    "tdf = pd.DataFrame()\n",
    "test_tdf = pd.DataFrame()\n",
    "#tdf['content'] = df['content']\n",
    "# tdf['content_id'] = df['content_id']\n",
    "for w in important_words:\n",
    "    tdf[w] = df['content'].apply(lambda text: 1 if text.find(w) != -1 else 0)\n",
    "    test_tdf[w] = test_df['content'].apply(lambda text: 1 if text.find(w) != -1 else 0)"
   ]
  },
  {
   "cell_type": "code",
   "execution_count": 50,
   "metadata": {},
   "outputs": [
    {
     "data": {
      "text/html": [
       "<div>\n",
       "<style scoped>\n",
       "    .dataframe tbody tr th:only-of-type {\n",
       "        vertical-align: middle;\n",
       "    }\n",
       "\n",
       "    .dataframe tbody tr th {\n",
       "        vertical-align: top;\n",
       "    }\n",
       "\n",
       "    .dataframe thead th {\n",
       "        text-align: right;\n",
       "    }\n",
       "</style>\n",
       "<table border=\"1\" class=\"dataframe\">\n",
       "  <thead>\n",
       "    <tr style=\"text-align: right;\">\n",
       "      <th></th>\n",
       "      <th>寄过来</th>\n",
       "      <th>黄色</th>\n",
       "      <th>空闲</th>\n",
       "      <th>四趟</th>\n",
       "      <th>车多</th>\n",
       "      <th>雪白</th>\n",
       "      <th>再就是</th>\n",
       "      <th>干什么</th>\n",
       "      <th>油到</th>\n",
       "      <th>叽响</th>\n",
       "      <th>...</th>\n",
       "      <th>车坏</th>\n",
       "      <th>该刹</th>\n",
       "      <th>后防</th>\n",
       "      <th>塞得</th>\n",
       "      <th>觉悟</th>\n",
       "      <th>气枪</th>\n",
       "      <th>购得</th>\n",
       "      <th>车真</th>\n",
       "      <th>中度</th>\n",
       "      <th>车龄长</th>\n",
       "    </tr>\n",
       "  </thead>\n",
       "  <tbody>\n",
       "    <tr>\n",
       "      <th>0</th>\n",
       "      <td>0</td>\n",
       "      <td>0</td>\n",
       "      <td>0</td>\n",
       "      <td>0</td>\n",
       "      <td>0</td>\n",
       "      <td>0</td>\n",
       "      <td>0</td>\n",
       "      <td>0</td>\n",
       "      <td>0</td>\n",
       "      <td>0</td>\n",
       "      <td>...</td>\n",
       "      <td>0</td>\n",
       "      <td>0</td>\n",
       "      <td>0</td>\n",
       "      <td>0</td>\n",
       "      <td>0</td>\n",
       "      <td>0</td>\n",
       "      <td>0</td>\n",
       "      <td>0</td>\n",
       "      <td>0</td>\n",
       "      <td>0</td>\n",
       "    </tr>\n",
       "  </tbody>\n",
       "</table>\n",
       "<p>1 rows × 16324 columns</p>\n",
       "</div>"
      ],
      "text/plain": [
       "   寄过来  黄色  空闲  四趟  车多  雪白  再就是  干什么  油到  叽响 ...   车坏  该刹  后防  塞得  觉悟  气枪  购得  \\\n",
       "0    0   0   0   0   0   0    0    0   0   0 ...    0   0   0   0   0   0   0   \n",
       "\n",
       "   车真  中度  车龄长  \n",
       "0   0   0    0  \n",
       "\n",
       "[1 rows x 16324 columns]"
      ]
     },
     "execution_count": 50,
     "metadata": {},
     "output_type": "execute_result"
    }
   ],
   "source": [
    "tdf.head(1)"
   ]
  },
  {
   "cell_type": "code",
   "execution_count": 54,
   "metadata": {},
   "outputs": [
    {
     "name": "stdout",
     "output_type": "stream",
     "text": [
      "12893\n"
     ]
    }
   ],
   "source": [
    "invalid_cols = []\n",
    "for col in tdf.columns:\n",
    "    if tdf[tdf[col]>0].shape[0] < 5:\n",
    "        invalid_cols.append(col)\n",
    "print(len(invalid_cols))"
   ]
  },
  {
   "cell_type": "code",
   "execution_count": 55,
   "metadata": {},
   "outputs": [
    {
     "data": {
      "text/plain": [
       "(8290, 3431)"
      ]
     },
     "execution_count": 55,
     "metadata": {},
     "output_type": "execute_result"
    }
   ],
   "source": [
    "tdf.drop(columns=invalid_cols, inplace=True)\n",
    "tdf.shape"
   ]
  },
  {
   "cell_type": "code",
   "execution_count": 56,
   "metadata": {},
   "outputs": [
    {
     "data": {
      "text/plain": [
       "(2364, 3431)"
      ]
     },
     "execution_count": 56,
     "metadata": {},
     "output_type": "execute_result"
    }
   ],
   "source": [
    "test_tdf.drop(columns=invalid_cols, inplace=True)\n",
    "test_tdf.shape"
   ]
  },
  {
   "cell_type": "code",
   "execution_count": 57,
   "metadata": {},
   "outputs": [],
   "source": [
    "tdf.to_csv('../data/tfidf_train.csv', index=False)\n",
    "test_tdf.to_csv('../data/tfidf_test.csv', index=False)"
   ]
  },
  {
   "cell_type": "markdown",
   "metadata": {},
   "source": [
    "### 2gram 词 做tfidf"
   ]
  },
  {
   "cell_type": "code",
   "execution_count": 3,
   "metadata": {},
   "outputs": [],
   "source": [
    "from sklearn.feature_extraction.text import TfidfTransformer"
   ]
  },
  {
   "cell_type": "code",
   "execution_count": 4,
   "metadata": {},
   "outputs": [
    {
     "data": {
      "text/html": [
       "<div>\n",
       "<style scoped>\n",
       "    .dataframe tbody tr th:only-of-type {\n",
       "        vertical-align: middle;\n",
       "    }\n",
       "\n",
       "    .dataframe tbody tr th {\n",
       "        vertical-align: top;\n",
       "    }\n",
       "\n",
       "    .dataframe thead th {\n",
       "        text-align: right;\n",
       "    }\n",
       "</style>\n",
       "<table border=\"1\" class=\"dataframe\">\n",
       "  <thead>\n",
       "    <tr style=\"text-align: right;\">\n",
       "      <th></th>\n",
       "      <th>content_id</th>\n",
       "      <th>content</th>\n",
       "      <th>价格</th>\n",
       "      <th>内饰</th>\n",
       "      <th>动力</th>\n",
       "      <th>外观</th>\n",
       "      <th>安全性</th>\n",
       "      <th>操控</th>\n",
       "      <th>油耗</th>\n",
       "      <th>空间</th>\n",
       "      <th>舒适性</th>\n",
       "      <th>配置</th>\n",
       "    </tr>\n",
       "  </thead>\n",
       "  <tbody>\n",
       "    <tr>\n",
       "      <th>0</th>\n",
       "      <td>01DqbWMwRjfBxLYz</td>\n",
       "      <td>自动启停对车没好处，等红灯挂N挡，轻刹车。</td>\n",
       "      <td>0.0</td>\n",
       "      <td>0.0</td>\n",
       "      <td>0.0</td>\n",
       "      <td>0.0</td>\n",
       "      <td>0.0</td>\n",
       "      <td>1.0</td>\n",
       "      <td>0.0</td>\n",
       "      <td>0.0</td>\n",
       "      <td>0.0</td>\n",
       "      <td>0.0</td>\n",
       "    </tr>\n",
       "    <tr>\n",
       "      <th>1</th>\n",
       "      <td>01X4vSqHci6NPYBy</td>\n",
       "      <td>开的2.0？在西藏动力如何？</td>\n",
       "      <td>0.0</td>\n",
       "      <td>0.0</td>\n",
       "      <td>1.0</td>\n",
       "      <td>0.0</td>\n",
       "      <td>0.0</td>\n",
       "      <td>0.0</td>\n",
       "      <td>0.0</td>\n",
       "      <td>0.0</td>\n",
       "      <td>0.0</td>\n",
       "      <td>0.0</td>\n",
       "    </tr>\n",
       "    <tr>\n",
       "      <th>2</th>\n",
       "      <td>02VHu4amZkpAGTb7</td>\n",
       "      <td>常用配件价格不贵，跟大众差不多。而且常用配件都有备货，如果不太常用的可能需要等，但也绝不是从...</td>\n",
       "      <td>1.0</td>\n",
       "      <td>0.0</td>\n",
       "      <td>0.0</td>\n",
       "      <td>0.0</td>\n",
       "      <td>0.0</td>\n",
       "      <td>0.0</td>\n",
       "      <td>0.0</td>\n",
       "      <td>0.0</td>\n",
       "      <td>0.0</td>\n",
       "      <td>0.0</td>\n",
       "    </tr>\n",
       "    <tr>\n",
       "      <th>3</th>\n",
       "      <td>038JPMTIu1tRcZ2p</td>\n",
       "      <td>4万公里，悲催的11。。。市区每天办事，堵成汪。 哈哈哈。如果以前的锐志，起码13~14</td>\n",
       "      <td>0.0</td>\n",
       "      <td>0.0</td>\n",
       "      <td>0.0</td>\n",
       "      <td>0.0</td>\n",
       "      <td>0.0</td>\n",
       "      <td>0.0</td>\n",
       "      <td>1.0</td>\n",
       "      <td>0.0</td>\n",
       "      <td>0.0</td>\n",
       "      <td>0.0</td>\n",
       "    </tr>\n",
       "    <tr>\n",
       "      <th>4</th>\n",
       "      <td>03AUEJcWODxb9ZHa</td>\n",
       "      <td>建议最好使用原厂，subaru的发动机的冷却方式更别的车不一样，所以原厂更适合。</td>\n",
       "      <td>0.0</td>\n",
       "      <td>0.0</td>\n",
       "      <td>1.0</td>\n",
       "      <td>0.0</td>\n",
       "      <td>0.0</td>\n",
       "      <td>0.0</td>\n",
       "      <td>0.0</td>\n",
       "      <td>0.0</td>\n",
       "      <td>0.0</td>\n",
       "      <td>0.0</td>\n",
       "    </tr>\n",
       "  </tbody>\n",
       "</table>\n",
       "</div>"
      ],
      "text/plain": [
       "         content_id                                            content   价格  \\\n",
       "0  01DqbWMwRjfBxLYz                              自动启停对车没好处，等红灯挂N挡，轻刹车。  0.0   \n",
       "1  01X4vSqHci6NPYBy                                     开的2.0？在西藏动力如何？  0.0   \n",
       "2  02VHu4amZkpAGTb7  常用配件价格不贵，跟大众差不多。而且常用配件都有备货，如果不太常用的可能需要等，但也绝不是从...  1.0   \n",
       "3  038JPMTIu1tRcZ2p       4万公里，悲催的11。。。市区每天办事，堵成汪。 哈哈哈。如果以前的锐志，起码13~14  0.0   \n",
       "4  03AUEJcWODxb9ZHa        建议最好使用原厂，subaru的发动机的冷却方式更别的车不一样，所以原厂更适合。     0.0   \n",
       "\n",
       "    内饰   动力   外观  安全性   操控   油耗   空间  舒适性   配置  \n",
       "0  0.0  0.0  0.0  0.0  1.0  0.0  0.0  0.0  0.0  \n",
       "1  0.0  1.0  0.0  0.0  0.0  0.0  0.0  0.0  0.0  \n",
       "2  0.0  0.0  0.0  0.0  0.0  0.0  0.0  0.0  0.0  \n",
       "3  0.0  0.0  0.0  0.0  0.0  1.0  0.0  0.0  0.0  \n",
       "4  0.0  1.0  0.0  0.0  0.0  0.0  0.0  0.0  0.0  "
      ]
     },
     "execution_count": 4,
     "metadata": {},
     "output_type": "execute_result"
    }
   ],
   "source": [
    "df = pd.read_csv('../data/input2.csv')\n",
    "df.head(5)"
   ]
  },
  {
   "cell_type": "code",
   "execution_count": 13,
   "metadata": {},
   "outputs": [],
   "source": [
    "def load_stopwords(filepath):\n",
    "    with open(filepath, encoding='utf-8') as f:\n",
    "        stops = set([v.strip() for v in f.readlines()])\n",
    "    return stops\n",
    "stops = load_stopwords('../data/stopwords.txt')\n",
    "def seg_stop_merge2(text):\n",
    "    segs = jieba.lcut(text)\n",
    "    words = set(segs)\n",
    "    words -= stops\n",
    "    words = list(words)\n",
    "    words.sort(key=segs.index)\n",
    "    words_2gram = ['{}{}'.format(w1, w2) for w1, w2 in zip(words[:-1], words[1:])]\n",
    "    text = ' '.join(words_2gram)\n",
    "    \n",
    "    return text"
   ]
  },
  {
   "cell_type": "code",
   "execution_count": 6,
   "metadata": {},
   "outputs": [
    {
     "data": {
      "text/html": [
       "<div>\n",
       "<style scoped>\n",
       "    .dataframe tbody tr th:only-of-type {\n",
       "        vertical-align: middle;\n",
       "    }\n",
       "\n",
       "    .dataframe tbody tr th {\n",
       "        vertical-align: top;\n",
       "    }\n",
       "\n",
       "    .dataframe thead th {\n",
       "        text-align: right;\n",
       "    }\n",
       "</style>\n",
       "<table border=\"1\" class=\"dataframe\">\n",
       "  <thead>\n",
       "    <tr style=\"text-align: right;\">\n",
       "      <th></th>\n",
       "      <th>content_id</th>\n",
       "      <th>content</th>\n",
       "    </tr>\n",
       "  </thead>\n",
       "  <tbody>\n",
       "    <tr>\n",
       "      <th>0</th>\n",
       "      <td>XuPwKCnA2fqNh5vm</td>\n",
       "      <td>欧蓝德，价格便宜，森林人太贵啦！</td>\n",
       "    </tr>\n",
       "    <tr>\n",
       "      <th>1</th>\n",
       "      <td>2jNbDn85goX3IuPE</td>\n",
       "      <td>楼主什么时候提的车，南昌优惠多少啊</td>\n",
       "    </tr>\n",
       "    <tr>\n",
       "      <th>2</th>\n",
       "      <td>hLgEADQ8sUnvGFK9</td>\n",
       "      <td>吉林，2.5优惠20000，送三年九次保养，贴膜</td>\n",
       "    </tr>\n",
       "  </tbody>\n",
       "</table>\n",
       "</div>"
      ],
      "text/plain": [
       "         content_id                   content\n",
       "0  XuPwKCnA2fqNh5vm      欧蓝德，价格便宜，森林人太贵啦！    \n",
       "1  2jNbDn85goX3IuPE         楼主什么时候提的车，南昌优惠多少啊\n",
       "2  hLgEADQ8sUnvGFK9  吉林，2.5优惠20000，送三年九次保养，贴膜"
      ]
     },
     "execution_count": 6,
     "metadata": {},
     "output_type": "execute_result"
    }
   ],
   "source": [
    "test_df = pd.read_csv('../data/test_public.csv')\n",
    "test_df.head(3)"
   ]
  },
  {
   "cell_type": "code",
   "execution_count": 14,
   "metadata": {},
   "outputs": [],
   "source": [
    "train_corpus = df['content'].apply(lambda text: seg_stop_merge2(text))\n",
    "test_corpus = test_df['content'].apply(lambda text: seg_stop_merge2(text))\n",
    "corpus = pd.concat([train_corpus, test_corpus])"
   ]
  },
  {
   "cell_type": "code",
   "execution_count": 15,
   "metadata": {},
   "outputs": [],
   "source": [
    "vectorizer = CountVectorizer()\n",
    "\n",
    "X = vectorizer.fit_transform(corpus)\n",
    "\n",
    "word = vectorizer.get_feature_names()"
   ]
  },
  {
   "cell_type": "code",
   "execution_count": 16,
   "metadata": {},
   "outputs": [],
   "source": [
    "transformer = TfidfTransformer()\n",
    "\n",
    "tfidf = transformer.fit_transform(X)"
   ]
  },
  {
   "cell_type": "code",
   "execution_count": 19,
   "metadata": {},
   "outputs": [
    {
     "ename": "MemoryError",
     "evalue": "",
     "output_type": "error",
     "traceback": [
      "\u001b[0;31m---------------------------------------------------------------------------\u001b[0m",
      "\u001b[0;31mMemoryError\u001b[0m                               Traceback (most recent call last)",
      "\u001b[0;32m<ipython-input-19-86d18851e02c>\u001b[0m in \u001b[0;36m<module>\u001b[0;34m()\u001b[0m\n\u001b[1;32m      1\u001b[0m \u001b[0mterm_weights\u001b[0m \u001b[0;34m=\u001b[0m \u001b[0;34m[\u001b[0m\u001b[0;34m]\u001b[0m\u001b[0;34m\u001b[0m\u001b[0m\n\u001b[1;32m      2\u001b[0m \u001b[0mword\u001b[0m \u001b[0;34m=\u001b[0m \u001b[0mvectorizer\u001b[0m\u001b[0;34m.\u001b[0m\u001b[0mget_feature_names\u001b[0m\u001b[0;34m(\u001b[0m\u001b[0;34m)\u001b[0m\u001b[0;31m#获取词袋模型中的所有词语\u001b[0m\u001b[0;34m\u001b[0m\u001b[0m\n\u001b[0;32m----> 3\u001b[0;31m \u001b[0mweight\u001b[0m \u001b[0;34m=\u001b[0m \u001b[0mtfidf\u001b[0m\u001b[0;34m.\u001b[0m\u001b[0mtoarray\u001b[0m\u001b[0;34m(\u001b[0m\u001b[0;34m)\u001b[0m\u001b[0;31m#将tf-idf矩阵抽取出来，元素a[i][j]表示j词在i类文本中的tf-idf权重\u001b[0m\u001b[0;34m\u001b[0m\u001b[0m\n\u001b[0m\u001b[1;32m      4\u001b[0m \u001b[0;32mfor\u001b[0m \u001b[0mi\u001b[0m \u001b[0;32min\u001b[0m \u001b[0mrange\u001b[0m\u001b[0;34m(\u001b[0m\u001b[0mlen\u001b[0m\u001b[0;34m(\u001b[0m\u001b[0mweight\u001b[0m\u001b[0;34m)\u001b[0m\u001b[0;34m)\u001b[0m\u001b[0;34m:\u001b[0m\u001b[0;31m#打印每类文本的tf-idf词语权重，第一个for遍历所有文本，第二个for便利某一类文本下的词语权重\u001b[0m\u001b[0;34m\u001b[0m\u001b[0m\n\u001b[1;32m      5\u001b[0m     \u001b[0;31m# print(\"-------这里输出第\",i,u\"类文本的词语tf-idf权重------\")\u001b[0m\u001b[0;34m\u001b[0m\u001b[0;34m\u001b[0m\u001b[0m\n",
      "\u001b[0;32m~/App/anaconda3/lib/python3.6/site-packages/scipy/sparse/compressed.py\u001b[0m in \u001b[0;36mtoarray\u001b[0;34m(self, order, out)\u001b[0m\n\u001b[1;32m    941\u001b[0m         \u001b[0;32mif\u001b[0m \u001b[0mout\u001b[0m \u001b[0;32mis\u001b[0m \u001b[0;32mNone\u001b[0m \u001b[0;32mand\u001b[0m \u001b[0morder\u001b[0m \u001b[0;32mis\u001b[0m \u001b[0;32mNone\u001b[0m\u001b[0;34m:\u001b[0m\u001b[0;34m\u001b[0m\u001b[0m\n\u001b[1;32m    942\u001b[0m             \u001b[0morder\u001b[0m \u001b[0;34m=\u001b[0m \u001b[0mself\u001b[0m\u001b[0;34m.\u001b[0m\u001b[0m_swap\u001b[0m\u001b[0;34m(\u001b[0m\u001b[0;34m'cf'\u001b[0m\u001b[0;34m)\u001b[0m\u001b[0;34m[\u001b[0m\u001b[0;36m0\u001b[0m\u001b[0;34m]\u001b[0m\u001b[0;34m\u001b[0m\u001b[0m\n\u001b[0;32m--> 943\u001b[0;31m         \u001b[0mout\u001b[0m \u001b[0;34m=\u001b[0m \u001b[0mself\u001b[0m\u001b[0;34m.\u001b[0m\u001b[0m_process_toarray_args\u001b[0m\u001b[0;34m(\u001b[0m\u001b[0morder\u001b[0m\u001b[0;34m,\u001b[0m \u001b[0mout\u001b[0m\u001b[0;34m)\u001b[0m\u001b[0;34m\u001b[0m\u001b[0m\n\u001b[0m\u001b[1;32m    944\u001b[0m         \u001b[0;32mif\u001b[0m \u001b[0;32mnot\u001b[0m \u001b[0;34m(\u001b[0m\u001b[0mout\u001b[0m\u001b[0;34m.\u001b[0m\u001b[0mflags\u001b[0m\u001b[0;34m.\u001b[0m\u001b[0mc_contiguous\u001b[0m \u001b[0;32mor\u001b[0m \u001b[0mout\u001b[0m\u001b[0;34m.\u001b[0m\u001b[0mflags\u001b[0m\u001b[0;34m.\u001b[0m\u001b[0mf_contiguous\u001b[0m\u001b[0;34m)\u001b[0m\u001b[0;34m:\u001b[0m\u001b[0;34m\u001b[0m\u001b[0m\n\u001b[1;32m    945\u001b[0m             \u001b[0;32mraise\u001b[0m \u001b[0mValueError\u001b[0m\u001b[0;34m(\u001b[0m\u001b[0;34m'Output array must be C or F contiguous'\u001b[0m\u001b[0;34m)\u001b[0m\u001b[0;34m\u001b[0m\u001b[0m\n",
      "\u001b[0;32m~/App/anaconda3/lib/python3.6/site-packages/scipy/sparse/base.py\u001b[0m in \u001b[0;36m_process_toarray_args\u001b[0;34m(self, order, out)\u001b[0m\n\u001b[1;32m   1128\u001b[0m             \u001b[0;32mreturn\u001b[0m \u001b[0mout\u001b[0m\u001b[0;34m\u001b[0m\u001b[0m\n\u001b[1;32m   1129\u001b[0m         \u001b[0;32melse\u001b[0m\u001b[0;34m:\u001b[0m\u001b[0;34m\u001b[0m\u001b[0m\n\u001b[0;32m-> 1130\u001b[0;31m             \u001b[0;32mreturn\u001b[0m \u001b[0mnp\u001b[0m\u001b[0;34m.\u001b[0m\u001b[0mzeros\u001b[0m\u001b[0;34m(\u001b[0m\u001b[0mself\u001b[0m\u001b[0;34m.\u001b[0m\u001b[0mshape\u001b[0m\u001b[0;34m,\u001b[0m \u001b[0mdtype\u001b[0m\u001b[0;34m=\u001b[0m\u001b[0mself\u001b[0m\u001b[0;34m.\u001b[0m\u001b[0mdtype\u001b[0m\u001b[0;34m,\u001b[0m \u001b[0morder\u001b[0m\u001b[0;34m=\u001b[0m\u001b[0morder\u001b[0m\u001b[0;34m)\u001b[0m\u001b[0;34m\u001b[0m\u001b[0m\n\u001b[0m\u001b[1;32m   1131\u001b[0m \u001b[0;34m\u001b[0m\u001b[0m\n\u001b[1;32m   1132\u001b[0m     \u001b[0;32mdef\u001b[0m \u001b[0m__numpy_ufunc__\u001b[0m\u001b[0;34m(\u001b[0m\u001b[0mself\u001b[0m\u001b[0;34m,\u001b[0m \u001b[0mfunc\u001b[0m\u001b[0;34m,\u001b[0m \u001b[0mmethod\u001b[0m\u001b[0;34m,\u001b[0m \u001b[0mpos\u001b[0m\u001b[0;34m,\u001b[0m \u001b[0minputs\u001b[0m\u001b[0;34m,\u001b[0m \u001b[0;34m**\u001b[0m\u001b[0mkwargs\u001b[0m\u001b[0;34m)\u001b[0m\u001b[0;34m:\u001b[0m\u001b[0;34m\u001b[0m\u001b[0m\n",
      "\u001b[0;31mMemoryError\u001b[0m: "
     ]
    }
   ],
   "source": [
    "term_weights = []\n",
    "word = vectorizer.get_feature_names()#获取词袋模型中的所有词语\n",
    "weight = tfidf.toarray()#将tf-idf矩阵抽取出来，元素a[i][j]表示j词在i类文本中的tf-idf权重\n",
    "for i in range(len(weight)):#打印每类文本的tf-idf词语权重，第一个for遍历所有文本，第二个for便利某一类文本下的词语权重\n",
    "    # print(\"-------这里输出第\",i,u\"类文本的词语tf-idf权重------\")\n",
    "    for j in range(len(word)):\n",
    "        # print(word[j],weight[i][j])\n",
    "        if weight[i][j] > 0:\n",
    "            term_weights.append((word[j], weight[i][j]))\n"
   ]
  },
  {
   "cell_type": "code",
   "execution_count": null,
   "metadata": {},
   "outputs": [],
   "source": [
    "len(term_weights)"
   ]
  },
  {
   "cell_type": "code",
   "execution_count": null,
   "metadata": {},
   "outputs": [],
   "source": [
    "import re\n",
    "# alphanum = re.compile('[a-zA-Z0-9]')\n",
    "alphanum = re.compile('[a-zA-Z]')"
   ]
  },
  {
   "cell_type": "code",
   "execution_count": null,
   "metadata": {},
   "outputs": [],
   "source": [
    "# important_words = set(v[0] for v, _ in zip(term_weights, range(3000)) if not alphanum.search(v[0]))\n",
    "important_words = set(v[0] for v in term_weights if not alphanum.search(v[0]))\n",
    "len(important_words)"
   ]
  },
  {
   "cell_type": "code",
   "execution_count": null,
   "metadata": {},
   "outputs": [],
   "source": [
    "with open('../data/tfidf2.txt', 'w', encoding='utf-8') as f:\n",
    "    first = True\n",
    "    for w in important_words:\n",
    "        if first:\n",
    "            first = False\n",
    "        else:\n",
    "            f.write('\\n')\n",
    "        f.write(w)\n",
    "    "
   ]
  },
  {
   "cell_type": "code",
   "execution_count": null,
   "metadata": {},
   "outputs": [],
   "source": [
    "with open('../data/tfidf1.txt', encoding='utf-8') as f:\n",
    "    important_words = [line.strip() for line in f.readlines()]"
   ]
  },
  {
   "cell_type": "code",
   "execution_count": null,
   "metadata": {},
   "outputs": [],
   "source": [
    "tdf = pd.DataFrame()\n",
    "test_tdf = pd.DataFrame()\n",
    "#tdf['content'] = df['content']\n",
    "# tdf['content_id'] = df['content_id']\n",
    "for w in important_words:\n",
    "    tdf[w] = df['content'].apply(lambda text: 1 if text.find(w) != -1 else 0)\n",
    "    test_tdf[w] = test_df['content'].apply(lambda text: 1 if text.find(w) != -1 else 0)"
   ]
  },
  {
   "cell_type": "code",
   "execution_count": null,
   "metadata": {},
   "outputs": [],
   "source": [
    "invalid_cols = []\n",
    "for col in tdf.columns:\n",
    "    if tdf[tdf[col]>0].shape[0] < 5:\n",
    "        invalid_cols.append(col)\n",
    "print(len(invalid_cols))"
   ]
  },
  {
   "cell_type": "code",
   "execution_count": null,
   "metadata": {},
   "outputs": [],
   "source": [
    "tdf.drop(columns=invalid_cols, inplace=True)\n",
    "tdf.shape"
   ]
  },
  {
   "cell_type": "code",
   "execution_count": null,
   "metadata": {},
   "outputs": [],
   "source": [
    "test_tdf.drop(columns=invalid_cols, inplace=True)\n",
    "test_tdf.shape"
   ]
  },
  {
   "cell_type": "code",
   "execution_count": null,
   "metadata": {},
   "outputs": [],
   "source": [
    "tdf.to_csv('../data/tfidf2_train.csv', index=False)\n",
    "test_tdf.to_csv('../data/tfidf2_test.csv', index=False)"
   ]
  },
  {
   "cell_type": "code",
   "execution_count": null,
   "metadata": {},
   "outputs": [],
   "source": [
    "\n",
    "\n",
    "# for index in range(tdf.shape[0]):\n",
    "#     for j in range(len(word)):\n",
    "#         if weight[index][j] > 0 and (word[j] in important_words):\n",
    "#             #print(word[j])\n",
    "#             tdf.loc[index, word[j]] = weight[index][j]\n",
    "\n",
    "            "
   ]
  },
  {
   "cell_type": "code",
   "execution_count": null,
   "metadata": {},
   "outputs": [],
   "source": [
    "# tdf.head(5)"
   ]
  },
  {
   "cell_type": "code",
   "execution_count": null,
   "metadata": {
    "scrolled": false
   },
   "outputs": [],
   "source": [
    "# tdf['空档'].value_counts()[0]"
   ]
  },
  {
   "cell_type": "code",
   "execution_count": null,
   "metadata": {
    "scrolled": true
   },
   "outputs": [],
   "source": [
    "# meaningless_cols = []\n",
    "# for col in tdf.columns:\n",
    "#     if tdf[col].value_counts()[0] > tdf.shape[0]-5:\n",
    "#         meaningless_cols.append(col)\n",
    "# print(meaningless_cols)"
   ]
  },
  {
   "cell_type": "code",
   "execution_count": null,
   "metadata": {},
   "outputs": [],
   "source": [
    "# print(len(meaningless_cols))"
   ]
  },
  {
   "cell_type": "code",
   "execution_count": null,
   "metadata": {},
   "outputs": [],
   "source": [
    "# meaningful_cols = list(important_words-set(meaningless_cols))"
   ]
  },
  {
   "cell_type": "code",
   "execution_count": null,
   "metadata": {},
   "outputs": [],
   "source": [
    "# train_tdf = tdf[meaningful_cols]"
   ]
  },
  {
   "cell_type": "code",
   "execution_count": null,
   "metadata": {},
   "outputs": [],
   "source": [
    "# train_tdf.head(3)"
   ]
  },
  {
   "cell_type": "code",
   "execution_count": null,
   "metadata": {},
   "outputs": [],
   "source": [
    "# train_tdf.to_csv('../data/tfidf_train.csv', index=False)\n",
    "# meaningful_words = set(meaningful_cols)"
   ]
  },
  {
   "cell_type": "code",
   "execution_count": null,
   "metadata": {},
   "outputs": [],
   "source": [
    "# test_tdf = pd.DataFrame()\n",
    "# for w in meaningful_cols:\n",
    "#     test_tdf[w] = np.array([0] * test_df.shape[0])"
   ]
  },
  {
   "cell_type": "code",
   "execution_count": null,
   "metadata": {},
   "outputs": [],
   "source": [
    "# for i in range(test_tdf.shape[0]):\n",
    "#     index = i + train_tdf.shape[0]\n",
    "#     for j in range(len(word)):\n",
    "#         if weight[index][j] > 0 and (word[j] in meaningful_words):\n",
    "#             #print(word[j])\n",
    "#             test_tdf.loc[i, word[j]] = weight[index][j]\n",
    "\n",
    "       "
   ]
  },
  {
   "cell_type": "code",
   "execution_count": null,
   "metadata": {},
   "outputs": [],
   "source": [
    "# test_tdf.head(4)"
   ]
  },
  {
   "cell_type": "code",
   "execution_count": null,
   "metadata": {},
   "outputs": [],
   "source": [
    "# test_tdf.to_csv('../data/tfidf_test.csv', index=False)"
   ]
  },
  {
   "cell_type": "markdown",
   "metadata": {},
   "source": [
    "### 利用规则提取的特征"
   ]
  },
  {
   "cell_type": "code",
   "execution_count": 31,
   "metadata": {},
   "outputs": [],
   "source": [
    "import rule_utils as ru"
   ]
  },
  {
   "cell_type": "code",
   "execution_count": 32,
   "metadata": {},
   "outputs": [],
   "source": [
    "subjects = {\n",
    "    'price': '价格', \n",
    "    'interior': '内饰', \n",
    "    'power': '动力', \n",
    "    'surface': '外观', \n",
    "    'safety': '安全性', \n",
    "    'operation':'操控', \n",
    "    'gas' : '油耗', \n",
    "    'space': '空间', \n",
    "    'comfort': '舒适性', \n",
    "    'config': '配置'\n",
    "}\n"
   ]
  },
  {
   "cell_type": "code",
   "execution_count": 33,
   "metadata": {},
   "outputs": [],
   "source": [
    "matchers = [(sub, ru.match_subject('../rules/{}.txt'.format(sub))) for sub in subjects]"
   ]
  },
  {
   "cell_type": "code",
   "execution_count": 34,
   "metadata": {},
   "outputs": [
    {
     "data": {
      "text/html": [
       "<div>\n",
       "<style scoped>\n",
       "    .dataframe tbody tr th:only-of-type {\n",
       "        vertical-align: middle;\n",
       "    }\n",
       "\n",
       "    .dataframe tbody tr th {\n",
       "        vertical-align: top;\n",
       "    }\n",
       "\n",
       "    .dataframe thead th {\n",
       "        text-align: right;\n",
       "    }\n",
       "</style>\n",
       "<table border=\"1\" class=\"dataframe\">\n",
       "  <thead>\n",
       "    <tr style=\"text-align: right;\">\n",
       "      <th></th>\n",
       "      <th>content_id</th>\n",
       "      <th>content</th>\n",
       "      <th>价格</th>\n",
       "      <th>内饰</th>\n",
       "      <th>动力</th>\n",
       "      <th>外观</th>\n",
       "      <th>安全性</th>\n",
       "      <th>操控</th>\n",
       "      <th>油耗</th>\n",
       "      <th>空间</th>\n",
       "      <th>舒适性</th>\n",
       "      <th>配置</th>\n",
       "    </tr>\n",
       "  </thead>\n",
       "  <tbody>\n",
       "    <tr>\n",
       "      <th>0</th>\n",
       "      <td>01DqbWMwRjfBxLYz</td>\n",
       "      <td>自动启停对车没好处，等红灯挂N挡，轻刹车。</td>\n",
       "      <td>3.0</td>\n",
       "      <td>3.0</td>\n",
       "      <td>3.0</td>\n",
       "      <td>3.0</td>\n",
       "      <td>3.0</td>\n",
       "      <td>1.0</td>\n",
       "      <td>3.0</td>\n",
       "      <td>3.0</td>\n",
       "      <td>3.0</td>\n",
       "      <td>3.0</td>\n",
       "    </tr>\n",
       "    <tr>\n",
       "      <th>1</th>\n",
       "      <td>01X4vSqHci6NPYBy</td>\n",
       "      <td>开的2.0？在西藏动力如何？</td>\n",
       "      <td>3.0</td>\n",
       "      <td>3.0</td>\n",
       "      <td>1.0</td>\n",
       "      <td>3.0</td>\n",
       "      <td>3.0</td>\n",
       "      <td>3.0</td>\n",
       "      <td>3.0</td>\n",
       "      <td>3.0</td>\n",
       "      <td>3.0</td>\n",
       "      <td>3.0</td>\n",
       "    </tr>\n",
       "    <tr>\n",
       "      <th>2</th>\n",
       "      <td>02VHu4amZkpAGTb7</td>\n",
       "      <td>常用配件价格不贵，跟大众差不多。而且常用配件都有备货，如果不太常用的可能需要等，但也绝不是从...</td>\n",
       "      <td>1.0</td>\n",
       "      <td>3.0</td>\n",
       "      <td>3.0</td>\n",
       "      <td>3.0</td>\n",
       "      <td>3.0</td>\n",
       "      <td>3.0</td>\n",
       "      <td>3.0</td>\n",
       "      <td>3.0</td>\n",
       "      <td>3.0</td>\n",
       "      <td>3.0</td>\n",
       "    </tr>\n",
       "    <tr>\n",
       "      <th>3</th>\n",
       "      <td>038JPMTIu1tRcZ2p</td>\n",
       "      <td>4万公里，悲催的11。。。市区每天办事，堵成汪。 哈哈哈。如果以前的锐志，起码13~14</td>\n",
       "      <td>3.0</td>\n",
       "      <td>3.0</td>\n",
       "      <td>3.0</td>\n",
       "      <td>3.0</td>\n",
       "      <td>3.0</td>\n",
       "      <td>3.0</td>\n",
       "      <td>1.0</td>\n",
       "      <td>3.0</td>\n",
       "      <td>3.0</td>\n",
       "      <td>3.0</td>\n",
       "    </tr>\n",
       "    <tr>\n",
       "      <th>4</th>\n",
       "      <td>03AUEJcWODxb9ZHa</td>\n",
       "      <td>建议最好使用原厂，subaru的发动机的冷却方式更别的车不一样，所以原厂更适合。</td>\n",
       "      <td>3.0</td>\n",
       "      <td>3.0</td>\n",
       "      <td>1.0</td>\n",
       "      <td>3.0</td>\n",
       "      <td>3.0</td>\n",
       "      <td>3.0</td>\n",
       "      <td>3.0</td>\n",
       "      <td>3.0</td>\n",
       "      <td>3.0</td>\n",
       "      <td>3.0</td>\n",
       "    </tr>\n",
       "  </tbody>\n",
       "</table>\n",
       "</div>"
      ],
      "text/plain": [
       "         content_id                                            content   价格  \\\n",
       "0  01DqbWMwRjfBxLYz                              自动启停对车没好处，等红灯挂N挡，轻刹车。  3.0   \n",
       "1  01X4vSqHci6NPYBy                                     开的2.0？在西藏动力如何？  3.0   \n",
       "2  02VHu4amZkpAGTb7  常用配件价格不贵，跟大众差不多。而且常用配件都有备货，如果不太常用的可能需要等，但也绝不是从...  1.0   \n",
       "3  038JPMTIu1tRcZ2p       4万公里，悲催的11。。。市区每天办事，堵成汪。 哈哈哈。如果以前的锐志，起码13~14  3.0   \n",
       "4  03AUEJcWODxb9ZHa        建议最好使用原厂，subaru的发动机的冷却方式更别的车不一样，所以原厂更适合。     3.0   \n",
       "\n",
       "    内饰   动力   外观  安全性   操控   油耗   空间  舒适性   配置  \n",
       "0  3.0  3.0  3.0  3.0  1.0  3.0  3.0  3.0  3.0  \n",
       "1  3.0  1.0  3.0  3.0  3.0  3.0  3.0  3.0  3.0  \n",
       "2  3.0  3.0  3.0  3.0  3.0  3.0  3.0  3.0  3.0  \n",
       "3  3.0  3.0  3.0  3.0  3.0  1.0  3.0  3.0  3.0  \n",
       "4  3.0  1.0  3.0  3.0  3.0  3.0  3.0  3.0  3.0  "
      ]
     },
     "execution_count": 34,
     "metadata": {},
     "output_type": "execute_result"
    }
   ],
   "source": [
    "df = pd.read_csv('../data/input.csv')\n",
    "df.head(5)"
   ]
  },
  {
   "cell_type": "code",
   "execution_count": 40,
   "metadata": {},
   "outputs": [
    {
     "data": {
      "text/plain": [
       "(8290,)"
      ]
     },
     "execution_count": 40,
     "metadata": {},
     "output_type": "execute_result"
    }
   ],
   "source": [
    "df['content'].shape"
   ]
  },
  {
   "cell_type": "code",
   "execution_count": 35,
   "metadata": {},
   "outputs": [
    {
     "data": {
      "text/html": [
       "<div>\n",
       "<style scoped>\n",
       "    .dataframe tbody tr th:only-of-type {\n",
       "        vertical-align: middle;\n",
       "    }\n",
       "\n",
       "    .dataframe tbody tr th {\n",
       "        vertical-align: top;\n",
       "    }\n",
       "\n",
       "    .dataframe thead th {\n",
       "        text-align: right;\n",
       "    }\n",
       "</style>\n",
       "<table border=\"1\" class=\"dataframe\">\n",
       "  <thead>\n",
       "    <tr style=\"text-align: right;\">\n",
       "      <th></th>\n",
       "      <th>content_id</th>\n",
       "      <th>content</th>\n",
       "    </tr>\n",
       "  </thead>\n",
       "  <tbody>\n",
       "    <tr>\n",
       "      <th>0</th>\n",
       "      <td>XuPwKCnA2fqNh5vm</td>\n",
       "      <td>欧蓝德，价格便宜，森林人太贵啦！</td>\n",
       "    </tr>\n",
       "    <tr>\n",
       "      <th>1</th>\n",
       "      <td>2jNbDn85goX3IuPE</td>\n",
       "      <td>楼主什么时候提的车，南昌优惠多少啊</td>\n",
       "    </tr>\n",
       "    <tr>\n",
       "      <th>2</th>\n",
       "      <td>hLgEADQ8sUnvGFK9</td>\n",
       "      <td>吉林，2.5优惠20000，送三年九次保养，贴膜</td>\n",
       "    </tr>\n",
       "    <tr>\n",
       "      <th>3</th>\n",
       "      <td>nZmM7LQsfr03wUaz</td>\n",
       "      <td>便宜2万的豪华特装，实用配制提升，优惠还给力，确实划算。</td>\n",
       "    </tr>\n",
       "    <tr>\n",
       "      <th>4</th>\n",
       "      <td>pwd8MnrthDqLZafe</td>\n",
       "      <td>如果实在想买就等车展期间，优惠2万，我24.98万入的2.5豪</td>\n",
       "    </tr>\n",
       "  </tbody>\n",
       "</table>\n",
       "</div>"
      ],
      "text/plain": [
       "         content_id                          content\n",
       "0  XuPwKCnA2fqNh5vm             欧蓝德，价格便宜，森林人太贵啦！    \n",
       "1  2jNbDn85goX3IuPE                楼主什么时候提的车，南昌优惠多少啊\n",
       "2  hLgEADQ8sUnvGFK9         吉林，2.5优惠20000，送三年九次保养，贴膜\n",
       "3  nZmM7LQsfr03wUaz     便宜2万的豪华特装，实用配制提升，优惠还给力，确实划算。\n",
       "4  pwd8MnrthDqLZafe  如果实在想买就等车展期间，优惠2万，我24.98万入的2.5豪"
      ]
     },
     "execution_count": 35,
     "metadata": {},
     "output_type": "execute_result"
    }
   ],
   "source": [
    "test_df = pd.read_csv('../data/test_public.csv')\n",
    "test_df.head(5)"
   ]
  },
  {
   "cell_type": "code",
   "execution_count": 41,
   "metadata": {},
   "outputs": [],
   "source": [
    "rdf = pd.DataFrame()\n",
    "for sub in subjects:\n",
    "    rdf[sub] = np.array([0] * df.shape[0])"
   ]
  },
  {
   "cell_type": "code",
   "execution_count": 42,
   "metadata": {},
   "outputs": [],
   "source": [
    "for i, value in enumerate(df['content']):\n",
    "    has = False\n",
    "    for sub, matcher in matchers:          \n",
    "        if matcher(value):\n",
    "            rdf.loc[i, sub] = 1              \n"
   ]
  },
  {
   "cell_type": "code",
   "execution_count": 43,
   "metadata": {},
   "outputs": [
    {
     "data": {
      "text/plain": [
       "(8290, 10)"
      ]
     },
     "execution_count": 43,
     "metadata": {},
     "output_type": "execute_result"
    }
   ],
   "source": [
    "rdf.shape"
   ]
  },
  {
   "cell_type": "code",
   "execution_count": 44,
   "metadata": {},
   "outputs": [
    {
     "data": {
      "text/html": [
       "<div>\n",
       "<style scoped>\n",
       "    .dataframe tbody tr th:only-of-type {\n",
       "        vertical-align: middle;\n",
       "    }\n",
       "\n",
       "    .dataframe tbody tr th {\n",
       "        vertical-align: top;\n",
       "    }\n",
       "\n",
       "    .dataframe thead th {\n",
       "        text-align: right;\n",
       "    }\n",
       "</style>\n",
       "<table border=\"1\" class=\"dataframe\">\n",
       "  <thead>\n",
       "    <tr style=\"text-align: right;\">\n",
       "      <th></th>\n",
       "      <th>price</th>\n",
       "      <th>interior</th>\n",
       "      <th>power</th>\n",
       "      <th>surface</th>\n",
       "      <th>safety</th>\n",
       "      <th>operation</th>\n",
       "      <th>gas</th>\n",
       "      <th>space</th>\n",
       "      <th>comfort</th>\n",
       "      <th>config</th>\n",
       "    </tr>\n",
       "  </thead>\n",
       "  <tbody>\n",
       "    <tr>\n",
       "      <th>0</th>\n",
       "      <td>0</td>\n",
       "      <td>0</td>\n",
       "      <td>0</td>\n",
       "      <td>0</td>\n",
       "      <td>1</td>\n",
       "      <td>0</td>\n",
       "      <td>0</td>\n",
       "      <td>0</td>\n",
       "      <td>0</td>\n",
       "      <td>0</td>\n",
       "    </tr>\n",
       "    <tr>\n",
       "      <th>1</th>\n",
       "      <td>0</td>\n",
       "      <td>0</td>\n",
       "      <td>1</td>\n",
       "      <td>0</td>\n",
       "      <td>0</td>\n",
       "      <td>0</td>\n",
       "      <td>0</td>\n",
       "      <td>0</td>\n",
       "      <td>0</td>\n",
       "      <td>0</td>\n",
       "    </tr>\n",
       "    <tr>\n",
       "      <th>2</th>\n",
       "      <td>1</td>\n",
       "      <td>0</td>\n",
       "      <td>0</td>\n",
       "      <td>0</td>\n",
       "      <td>0</td>\n",
       "      <td>0</td>\n",
       "      <td>0</td>\n",
       "      <td>0</td>\n",
       "      <td>0</td>\n",
       "      <td>0</td>\n",
       "    </tr>\n",
       "    <tr>\n",
       "      <th>3</th>\n",
       "      <td>0</td>\n",
       "      <td>0</td>\n",
       "      <td>0</td>\n",
       "      <td>0</td>\n",
       "      <td>0</td>\n",
       "      <td>0</td>\n",
       "      <td>0</td>\n",
       "      <td>0</td>\n",
       "      <td>0</td>\n",
       "      <td>0</td>\n",
       "    </tr>\n",
       "    <tr>\n",
       "      <th>4</th>\n",
       "      <td>0</td>\n",
       "      <td>0</td>\n",
       "      <td>1</td>\n",
       "      <td>0</td>\n",
       "      <td>0</td>\n",
       "      <td>0</td>\n",
       "      <td>0</td>\n",
       "      <td>0</td>\n",
       "      <td>0</td>\n",
       "      <td>0</td>\n",
       "    </tr>\n",
       "  </tbody>\n",
       "</table>\n",
       "</div>"
      ],
      "text/plain": [
       "   price  interior  power  surface  safety  operation  gas  space  comfort  \\\n",
       "0      0         0      0        0       1          0    0      0        0   \n",
       "1      0         0      1        0       0          0    0      0        0   \n",
       "2      1         0      0        0       0          0    0      0        0   \n",
       "3      0         0      0        0       0          0    0      0        0   \n",
       "4      0         0      1        0       0          0    0      0        0   \n",
       "\n",
       "   config  \n",
       "0       0  \n",
       "1       0  \n",
       "2       0  \n",
       "3       0  \n",
       "4       0  "
      ]
     },
     "execution_count": 44,
     "metadata": {},
     "output_type": "execute_result"
    }
   ],
   "source": [
    "# rdf.fillna(0, inplace=True)\n",
    "rdf.head(5)"
   ]
  },
  {
   "cell_type": "code",
   "execution_count": 45,
   "metadata": {},
   "outputs": [],
   "source": [
    "rdf.to_csv('../data/rule_train.csv', index=False) "
   ]
  },
  {
   "cell_type": "code",
   "execution_count": 46,
   "metadata": {},
   "outputs": [],
   "source": [
    "test_rdf = pd.DataFrame()\n",
    "for sub in subjects:\n",
    "    test_rdf[sub] = np.array([0] * test_df.shape[0])"
   ]
  },
  {
   "cell_type": "code",
   "execution_count": 47,
   "metadata": {},
   "outputs": [],
   "source": [
    "for i, value in enumerate(test_df['content']):\n",
    "    has = False\n",
    "    for sub, matcher in matchers:          \n",
    "        if matcher(value):\n",
    "            test_rdf.loc[i, sub] = 1              \n"
   ]
  },
  {
   "cell_type": "code",
   "execution_count": 48,
   "metadata": {},
   "outputs": [
    {
     "data": {
      "text/html": [
       "<div>\n",
       "<style scoped>\n",
       "    .dataframe tbody tr th:only-of-type {\n",
       "        vertical-align: middle;\n",
       "    }\n",
       "\n",
       "    .dataframe tbody tr th {\n",
       "        vertical-align: top;\n",
       "    }\n",
       "\n",
       "    .dataframe thead th {\n",
       "        text-align: right;\n",
       "    }\n",
       "</style>\n",
       "<table border=\"1\" class=\"dataframe\">\n",
       "  <thead>\n",
       "    <tr style=\"text-align: right;\">\n",
       "      <th></th>\n",
       "      <th>price</th>\n",
       "      <th>interior</th>\n",
       "      <th>power</th>\n",
       "      <th>surface</th>\n",
       "      <th>safety</th>\n",
       "      <th>operation</th>\n",
       "      <th>gas</th>\n",
       "      <th>space</th>\n",
       "      <th>comfort</th>\n",
       "      <th>config</th>\n",
       "    </tr>\n",
       "  </thead>\n",
       "  <tbody>\n",
       "    <tr>\n",
       "      <th>0</th>\n",
       "      <td>1</td>\n",
       "      <td>0</td>\n",
       "      <td>0</td>\n",
       "      <td>0</td>\n",
       "      <td>0</td>\n",
       "      <td>0</td>\n",
       "      <td>0</td>\n",
       "      <td>0</td>\n",
       "      <td>0</td>\n",
       "      <td>0</td>\n",
       "    </tr>\n",
       "    <tr>\n",
       "      <th>1</th>\n",
       "      <td>1</td>\n",
       "      <td>0</td>\n",
       "      <td>0</td>\n",
       "      <td>0</td>\n",
       "      <td>0</td>\n",
       "      <td>0</td>\n",
       "      <td>0</td>\n",
       "      <td>0</td>\n",
       "      <td>0</td>\n",
       "      <td>0</td>\n",
       "    </tr>\n",
       "    <tr>\n",
       "      <th>2</th>\n",
       "      <td>1</td>\n",
       "      <td>0</td>\n",
       "      <td>0</td>\n",
       "      <td>0</td>\n",
       "      <td>0</td>\n",
       "      <td>0</td>\n",
       "      <td>0</td>\n",
       "      <td>0</td>\n",
       "      <td>0</td>\n",
       "      <td>0</td>\n",
       "    </tr>\n",
       "  </tbody>\n",
       "</table>\n",
       "</div>"
      ],
      "text/plain": [
       "   price  interior  power  surface  safety  operation  gas  space  comfort  \\\n",
       "0      1         0      0        0       0          0    0      0        0   \n",
       "1      1         0      0        0       0          0    0      0        0   \n",
       "2      1         0      0        0       0          0    0      0        0   \n",
       "\n",
       "   config  \n",
       "0       0  \n",
       "1       0  \n",
       "2       0  "
      ]
     },
     "execution_count": 48,
     "metadata": {},
     "output_type": "execute_result"
    }
   ],
   "source": [
    "# test_rdf.fillna(0, inplace=True)\n",
    "test_rdf.head(3)"
   ]
  },
  {
   "cell_type": "code",
   "execution_count": 49,
   "metadata": {},
   "outputs": [],
   "source": [
    "test_rdf.to_csv('../data/rule_test.csv', index=False) "
   ]
  },
  {
   "cell_type": "code",
   "execution_count": null,
   "metadata": {},
   "outputs": [],
   "source": []
  },
  {
   "cell_type": "markdown",
   "metadata": {},
   "source": [
    "### 合并规则和ｔｆｉｄｆ                                                                                                                                                                                     "
   ]
  },
  {
   "cell_type": "code",
   "execution_count": 58,
   "metadata": {},
   "outputs": [
    {
     "data": {
      "text/html": [
       "<div>\n",
       "<style scoped>\n",
       "    .dataframe tbody tr th:only-of-type {\n",
       "        vertical-align: middle;\n",
       "    }\n",
       "\n",
       "    .dataframe tbody tr th {\n",
       "        vertical-align: top;\n",
       "    }\n",
       "\n",
       "    .dataframe thead th {\n",
       "        text-align: right;\n",
       "    }\n",
       "</style>\n",
       "<table border=\"1\" class=\"dataframe\">\n",
       "  <thead>\n",
       "    <tr style=\"text-align: right;\">\n",
       "      <th></th>\n",
       "      <th>车多</th>\n",
       "      <th>再就是</th>\n",
       "      <th>干什么</th>\n",
       "      <th>没得说</th>\n",
       "      <th>降档</th>\n",
       "      <th>少有</th>\n",
       "      <th>主力</th>\n",
       "      <th>满满的</th>\n",
       "      <th>算是</th>\n",
       "      <th>第一个</th>\n",
       "      <th>...</th>\n",
       "      <th>config_9</th>\n",
       "      <th>config_10</th>\n",
       "      <th>config_11</th>\n",
       "      <th>config_12</th>\n",
       "      <th>config_13</th>\n",
       "      <th>config_14</th>\n",
       "      <th>config_15</th>\n",
       "      <th>config_16</th>\n",
       "      <th>config_17</th>\n",
       "      <th>config_18</th>\n",
       "    </tr>\n",
       "  </thead>\n",
       "  <tbody>\n",
       "    <tr>\n",
       "      <th>0</th>\n",
       "      <td>0</td>\n",
       "      <td>0</td>\n",
       "      <td>0</td>\n",
       "      <td>0</td>\n",
       "      <td>0</td>\n",
       "      <td>0</td>\n",
       "      <td>0</td>\n",
       "      <td>0</td>\n",
       "      <td>0</td>\n",
       "      <td>0</td>\n",
       "      <td>...</td>\n",
       "      <td>0.0</td>\n",
       "      <td>0.0</td>\n",
       "      <td>0.0</td>\n",
       "      <td>0.0</td>\n",
       "      <td>0.0</td>\n",
       "      <td>0.0</td>\n",
       "      <td>0.0</td>\n",
       "      <td>0.0</td>\n",
       "      <td>0.0</td>\n",
       "      <td>0.0</td>\n",
       "    </tr>\n",
       "    <tr>\n",
       "      <th>1</th>\n",
       "      <td>0</td>\n",
       "      <td>0</td>\n",
       "      <td>0</td>\n",
       "      <td>0</td>\n",
       "      <td>0</td>\n",
       "      <td>0</td>\n",
       "      <td>0</td>\n",
       "      <td>0</td>\n",
       "      <td>0</td>\n",
       "      <td>0</td>\n",
       "      <td>...</td>\n",
       "      <td>0.0</td>\n",
       "      <td>0.0</td>\n",
       "      <td>0.0</td>\n",
       "      <td>0.0</td>\n",
       "      <td>0.0</td>\n",
       "      <td>0.0</td>\n",
       "      <td>0.0</td>\n",
       "      <td>0.0</td>\n",
       "      <td>0.0</td>\n",
       "      <td>0.0</td>\n",
       "    </tr>\n",
       "    <tr>\n",
       "      <th>2</th>\n",
       "      <td>0</td>\n",
       "      <td>0</td>\n",
       "      <td>0</td>\n",
       "      <td>0</td>\n",
       "      <td>0</td>\n",
       "      <td>0</td>\n",
       "      <td>0</td>\n",
       "      <td>0</td>\n",
       "      <td>0</td>\n",
       "      <td>0</td>\n",
       "      <td>...</td>\n",
       "      <td>0.0</td>\n",
       "      <td>0.0</td>\n",
       "      <td>0.0</td>\n",
       "      <td>0.0</td>\n",
       "      <td>0.0</td>\n",
       "      <td>0.0</td>\n",
       "      <td>0.0</td>\n",
       "      <td>0.0</td>\n",
       "      <td>0.0</td>\n",
       "      <td>0.0</td>\n",
       "    </tr>\n",
       "  </tbody>\n",
       "</table>\n",
       "<p>3 rows × 3541 columns</p>\n",
       "</div>"
      ],
      "text/plain": [
       "   车多  再就是  干什么  没得说  降档  少有  主力  满满的  算是  第一个    ...      config_9  \\\n",
       "0   0    0    0    0   0   0   0    0   0    0    ...           0.0   \n",
       "1   0    0    0    0   0   0   0    0   0    0    ...           0.0   \n",
       "2   0    0    0    0   0   0   0    0   0    0    ...           0.0   \n",
       "\n",
       "   config_10  config_11  config_12  config_13  config_14  config_15  \\\n",
       "0        0.0        0.0        0.0        0.0        0.0        0.0   \n",
       "1        0.0        0.0        0.0        0.0        0.0        0.0   \n",
       "2        0.0        0.0        0.0        0.0        0.0        0.0   \n",
       "\n",
       "   config_16  config_17  config_18  \n",
       "0        0.0        0.0        0.0  \n",
       "1        0.0        0.0        0.0  \n",
       "2        0.0        0.0        0.0  \n",
       "\n",
       "[3 rows x 3541 columns]"
      ]
     },
     "execution_count": 58,
     "metadata": {},
     "output_type": "execute_result"
    }
   ],
   "source": [
    "tdf = pd.read_csv('../data/tfidf_train.csv')\n",
    "rdf = pd.read_csv('../data/rule_train.csv')\n",
    "trdf = pd.merge(tdf, rdf, left_index=True, right_index=True)\n",
    "trdf.head(3)"
   ]
  },
  {
   "cell_type": "code",
   "execution_count": 59,
   "metadata": {},
   "outputs": [
    {
     "data": {
      "text/html": [
       "<div>\n",
       "<style scoped>\n",
       "    .dataframe tbody tr th:only-of-type {\n",
       "        vertical-align: middle;\n",
       "    }\n",
       "\n",
       "    .dataframe tbody tr th {\n",
       "        vertical-align: top;\n",
       "    }\n",
       "\n",
       "    .dataframe thead th {\n",
       "        text-align: right;\n",
       "    }\n",
       "</style>\n",
       "<table border=\"1\" class=\"dataframe\">\n",
       "  <thead>\n",
       "    <tr style=\"text-align: right;\">\n",
       "      <th></th>\n",
       "      <th>车多</th>\n",
       "      <th>再就是</th>\n",
       "      <th>干什么</th>\n",
       "      <th>没得说</th>\n",
       "      <th>降档</th>\n",
       "      <th>少有</th>\n",
       "      <th>主力</th>\n",
       "      <th>满满的</th>\n",
       "      <th>算是</th>\n",
       "      <th>第一个</th>\n",
       "      <th>...</th>\n",
       "      <th>config_9</th>\n",
       "      <th>config_10</th>\n",
       "      <th>config_11</th>\n",
       "      <th>config_12</th>\n",
       "      <th>config_13</th>\n",
       "      <th>config_14</th>\n",
       "      <th>config_15</th>\n",
       "      <th>config_16</th>\n",
       "      <th>config_17</th>\n",
       "      <th>config_18</th>\n",
       "    </tr>\n",
       "  </thead>\n",
       "  <tbody>\n",
       "    <tr>\n",
       "      <th>0</th>\n",
       "      <td>0</td>\n",
       "      <td>0</td>\n",
       "      <td>0</td>\n",
       "      <td>0</td>\n",
       "      <td>0</td>\n",
       "      <td>0</td>\n",
       "      <td>0</td>\n",
       "      <td>0</td>\n",
       "      <td>0</td>\n",
       "      <td>0</td>\n",
       "      <td>...</td>\n",
       "      <td>0.0</td>\n",
       "      <td>0.0</td>\n",
       "      <td>0.0</td>\n",
       "      <td>0.0</td>\n",
       "      <td>0.0</td>\n",
       "      <td>0.0</td>\n",
       "      <td>0.0</td>\n",
       "      <td>0.0</td>\n",
       "      <td>0.0</td>\n",
       "      <td>0.0</td>\n",
       "    </tr>\n",
       "    <tr>\n",
       "      <th>1</th>\n",
       "      <td>0</td>\n",
       "      <td>0</td>\n",
       "      <td>0</td>\n",
       "      <td>0</td>\n",
       "      <td>0</td>\n",
       "      <td>0</td>\n",
       "      <td>0</td>\n",
       "      <td>0</td>\n",
       "      <td>0</td>\n",
       "      <td>0</td>\n",
       "      <td>...</td>\n",
       "      <td>0.0</td>\n",
       "      <td>0.0</td>\n",
       "      <td>0.0</td>\n",
       "      <td>0.0</td>\n",
       "      <td>0.0</td>\n",
       "      <td>0.0</td>\n",
       "      <td>0.0</td>\n",
       "      <td>0.0</td>\n",
       "      <td>0.0</td>\n",
       "      <td>0.0</td>\n",
       "    </tr>\n",
       "    <tr>\n",
       "      <th>2</th>\n",
       "      <td>0</td>\n",
       "      <td>0</td>\n",
       "      <td>0</td>\n",
       "      <td>0</td>\n",
       "      <td>0</td>\n",
       "      <td>0</td>\n",
       "      <td>0</td>\n",
       "      <td>0</td>\n",
       "      <td>0</td>\n",
       "      <td>0</td>\n",
       "      <td>...</td>\n",
       "      <td>0.0</td>\n",
       "      <td>0.0</td>\n",
       "      <td>0.0</td>\n",
       "      <td>0.0</td>\n",
       "      <td>0.0</td>\n",
       "      <td>0.0</td>\n",
       "      <td>0.0</td>\n",
       "      <td>0.0</td>\n",
       "      <td>0.0</td>\n",
       "      <td>0.0</td>\n",
       "    </tr>\n",
       "  </tbody>\n",
       "</table>\n",
       "<p>3 rows × 3541 columns</p>\n",
       "</div>"
      ],
      "text/plain": [
       "   车多  再就是  干什么  没得说  降档  少有  主力  满满的  算是  第一个    ...      config_9  \\\n",
       "0   0    0    0    0   0   0   0    0   0    0    ...           0.0   \n",
       "1   0    0    0    0   0   0   0    0   0    0    ...           0.0   \n",
       "2   0    0    0    0   0   0   0    0   0    0    ...           0.0   \n",
       "\n",
       "   config_10  config_11  config_12  config_13  config_14  config_15  \\\n",
       "0        0.0        0.0        0.0        0.0        0.0        0.0   \n",
       "1        0.0        0.0        0.0        0.0        0.0        0.0   \n",
       "2        0.0        0.0        0.0        0.0        0.0        0.0   \n",
       "\n",
       "   config_16  config_17  config_18  \n",
       "0        0.0        0.0        0.0  \n",
       "1        0.0        0.0        0.0  \n",
       "2        0.0        0.0        0.0  \n",
       "\n",
       "[3 rows x 3541 columns]"
      ]
     },
     "execution_count": 59,
     "metadata": {},
     "output_type": "execute_result"
    }
   ],
   "source": [
    "test_tdf = pd.read_csv('../data/tfidf_test.csv')\n",
    "test_rdf = pd.read_csv('../data/rule_test.csv')\n",
    "test_trdf = pd.merge(test_tdf, test_rdf, left_index=True, right_index=True)\n",
    "test_trdf.head(3)"
   ]
  },
  {
   "cell_type": "code",
   "execution_count": 60,
   "metadata": {},
   "outputs": [],
   "source": [
    "trdf.to_csv('../data/merge_train.csv', index=False)"
   ]
  },
  {
   "cell_type": "code",
   "execution_count": 61,
   "metadata": {},
   "outputs": [],
   "source": [
    "test_trdf.to_csv('../data/merge_test.csv', index=False)"
   ]
  },
  {
   "cell_type": "code",
   "execution_count": 62,
   "metadata": {},
   "outputs": [
    {
     "data": {
      "text/plain": [
       "(8290, 110)"
      ]
     },
     "execution_count": 62,
     "metadata": {},
     "output_type": "execute_result"
    }
   ],
   "source": [
    "rdf.shape"
   ]
  },
  {
   "cell_type": "code",
   "execution_count": 63,
   "metadata": {},
   "outputs": [
    {
     "data": {
      "text/plain": [
       "(8290, 3541)"
      ]
     },
     "execution_count": 63,
     "metadata": {},
     "output_type": "execute_result"
    }
   ],
   "source": [
    "trdf.shape"
   ]
  },
  {
   "cell_type": "code",
   "execution_count": 64,
   "metadata": {},
   "outputs": [
    {
     "data": {
      "text/plain": [
       "(8290, 3431)"
      ]
     },
     "execution_count": 64,
     "metadata": {},
     "output_type": "execute_result"
    }
   ],
   "source": [
    "tdf.shape"
   ]
  },
  {
   "cell_type": "code",
   "execution_count": null,
   "metadata": {},
   "outputs": [],
   "source": []
  },
  {
   "cell_type": "markdown",
   "metadata": {},
   "source": [
    "### 使用doc2vec作为特征(垃圾，下面的别看了)"
   ]
  },
  {
   "cell_type": "code",
   "execution_count": 94,
   "metadata": {},
   "outputs": [],
   "source": [
    "from gensim.test.utils import common_texts\n",
    "from gensim.models.doc2vec import Doc2Vec, TaggedDocument\n",
    "from gensim.test.utils import get_tmpfile"
   ]
  },
  {
   "cell_type": "code",
   "execution_count": 176,
   "metadata": {},
   "outputs": [],
   "source": [
    "feature_size = 300"
   ]
  },
  {
   "cell_type": "code",
   "execution_count": 177,
   "metadata": {},
   "outputs": [
    {
     "data": {
      "text/html": [
       "<div>\n",
       "<style scoped>\n",
       "    .dataframe tbody tr th:only-of-type {\n",
       "        vertical-align: middle;\n",
       "    }\n",
       "\n",
       "    .dataframe tbody tr th {\n",
       "        vertical-align: top;\n",
       "    }\n",
       "\n",
       "    .dataframe thead th {\n",
       "        text-align: right;\n",
       "    }\n",
       "</style>\n",
       "<table border=\"1\" class=\"dataframe\">\n",
       "  <thead>\n",
       "    <tr style=\"text-align: right;\">\n",
       "      <th></th>\n",
       "      <th>content_id</th>\n",
       "      <th>content</th>\n",
       "      <th>价格</th>\n",
       "      <th>内饰</th>\n",
       "      <th>动力</th>\n",
       "      <th>外观</th>\n",
       "      <th>安全性</th>\n",
       "      <th>操控</th>\n",
       "      <th>油耗</th>\n",
       "      <th>空间</th>\n",
       "      <th>舒适性</th>\n",
       "      <th>配置</th>\n",
       "    </tr>\n",
       "  </thead>\n",
       "  <tbody>\n",
       "    <tr>\n",
       "      <th>0</th>\n",
       "      <td>01DqbWMwRjfBxLYz</td>\n",
       "      <td>自动启停对车没好处，等红灯挂N挡，轻刹车。</td>\n",
       "      <td>3.0</td>\n",
       "      <td>3.0</td>\n",
       "      <td>3.0</td>\n",
       "      <td>3.0</td>\n",
       "      <td>3.0</td>\n",
       "      <td>1.0</td>\n",
       "      <td>3.0</td>\n",
       "      <td>3.0</td>\n",
       "      <td>3.0</td>\n",
       "      <td>3.0</td>\n",
       "    </tr>\n",
       "    <tr>\n",
       "      <th>1</th>\n",
       "      <td>01X4vSqHci6NPYBy</td>\n",
       "      <td>开的2.0？在西藏动力如何？</td>\n",
       "      <td>3.0</td>\n",
       "      <td>3.0</td>\n",
       "      <td>1.0</td>\n",
       "      <td>3.0</td>\n",
       "      <td>3.0</td>\n",
       "      <td>3.0</td>\n",
       "      <td>3.0</td>\n",
       "      <td>3.0</td>\n",
       "      <td>3.0</td>\n",
       "      <td>3.0</td>\n",
       "    </tr>\n",
       "    <tr>\n",
       "      <th>2</th>\n",
       "      <td>02VHu4amZkpAGTb7</td>\n",
       "      <td>常用配件价格不贵，跟大众差不多。而且常用配件都有备货，如果不太常用的可能需要等，但也绝不是从...</td>\n",
       "      <td>1.0</td>\n",
       "      <td>3.0</td>\n",
       "      <td>3.0</td>\n",
       "      <td>3.0</td>\n",
       "      <td>3.0</td>\n",
       "      <td>3.0</td>\n",
       "      <td>3.0</td>\n",
       "      <td>3.0</td>\n",
       "      <td>3.0</td>\n",
       "      <td>3.0</td>\n",
       "    </tr>\n",
       "    <tr>\n",
       "      <th>3</th>\n",
       "      <td>038JPMTIu1tRcZ2p</td>\n",
       "      <td>4万公里，悲催的11。。。市区每天办事，堵成汪。 哈哈哈。如果以前的锐志，起码13~14</td>\n",
       "      <td>3.0</td>\n",
       "      <td>3.0</td>\n",
       "      <td>3.0</td>\n",
       "      <td>3.0</td>\n",
       "      <td>3.0</td>\n",
       "      <td>3.0</td>\n",
       "      <td>1.0</td>\n",
       "      <td>3.0</td>\n",
       "      <td>3.0</td>\n",
       "      <td>3.0</td>\n",
       "    </tr>\n",
       "    <tr>\n",
       "      <th>4</th>\n",
       "      <td>03AUEJcWODxb9ZHa</td>\n",
       "      <td>建议最好使用原厂，subaru的发动机的冷却方式更别的车不一样，所以原厂更适合。</td>\n",
       "      <td>3.0</td>\n",
       "      <td>3.0</td>\n",
       "      <td>1.0</td>\n",
       "      <td>3.0</td>\n",
       "      <td>3.0</td>\n",
       "      <td>3.0</td>\n",
       "      <td>3.0</td>\n",
       "      <td>3.0</td>\n",
       "      <td>3.0</td>\n",
       "      <td>3.0</td>\n",
       "    </tr>\n",
       "  </tbody>\n",
       "</table>\n",
       "</div>"
      ],
      "text/plain": [
       "         content_id                                            content   价格  \\\n",
       "0  01DqbWMwRjfBxLYz                              自动启停对车没好处，等红灯挂N挡，轻刹车。  3.0   \n",
       "1  01X4vSqHci6NPYBy                                     开的2.0？在西藏动力如何？  3.0   \n",
       "2  02VHu4amZkpAGTb7  常用配件价格不贵，跟大众差不多。而且常用配件都有备货，如果不太常用的可能需要等，但也绝不是从...  1.0   \n",
       "3  038JPMTIu1tRcZ2p       4万公里，悲催的11。。。市区每天办事，堵成汪。 哈哈哈。如果以前的锐志，起码13~14  3.0   \n",
       "4  03AUEJcWODxb9ZHa        建议最好使用原厂，subaru的发动机的冷却方式更别的车不一样，所以原厂更适合。     3.0   \n",
       "\n",
       "    内饰   动力   外观  安全性   操控   油耗   空间  舒适性   配置  \n",
       "0  3.0  3.0  3.0  3.0  1.0  3.0  3.0  3.0  3.0  \n",
       "1  3.0  1.0  3.0  3.0  3.0  3.0  3.0  3.0  3.0  \n",
       "2  3.0  3.0  3.0  3.0  3.0  3.0  3.0  3.0  3.0  \n",
       "3  3.0  3.0  3.0  3.0  3.0  1.0  3.0  3.0  3.0  \n",
       "4  3.0  1.0  3.0  3.0  3.0  3.0  3.0  3.0  3.0  "
      ]
     },
     "execution_count": 177,
     "metadata": {},
     "output_type": "execute_result"
    }
   ],
   "source": [
    "df = pd.read_csv('../data/input.csv')\n",
    "df.head(5)"
   ]
  },
  {
   "cell_type": "code",
   "execution_count": 178,
   "metadata": {},
   "outputs": [],
   "source": [
    "sign_ptn = re.compile(r'[\\s+\\.\\!\\/_,$%^*(+\\\"\\')]+|[+——()?【】“”！，。×》〕:《〈？、~@#￥%……&*（）]+')\n",
    "def pre_doc(text):\n",
    "    text = sign_ptn.sub(' ', text)\n",
    "    return jieba.lcut(text)"
   ]
  },
  {
   "cell_type": "code",
   "execution_count": 179,
   "metadata": {},
   "outputs": [],
   "source": [
    "documents = [TaggedDocument(pre_doc(doc), [i]) for i, doc in enumerate(df['content'])]"
   ]
  },
  {
   "cell_type": "code",
   "execution_count": 180,
   "metadata": {},
   "outputs": [],
   "source": [
    "model = Doc2Vec(documents, vector_size=feature_size, window=5, min_count=5, workers=4)"
   ]
  },
  {
   "cell_type": "code",
   "execution_count": 181,
   "metadata": {},
   "outputs": [],
   "source": [
    "\n",
    "fname = get_tmpfile(\"my_doc2vec_model\")\n",
    "model.save(fname)"
   ]
  },
  {
   "cell_type": "code",
   "execution_count": 182,
   "metadata": {},
   "outputs": [],
   "source": [
    "model = Doc2Vec.load(fname)  # you can continue training with the loaded model!"
   ]
  },
  {
   "cell_type": "code",
   "execution_count": 183,
   "metadata": {},
   "outputs": [],
   "source": [
    "model.train(documents, total_examples=model.corpus_count, epochs=3)"
   ]
  },
  {
   "cell_type": "code",
   "execution_count": 184,
   "metadata": {},
   "outputs": [],
   "source": [
    "test_df = pd.read_csv('../data/test_public.csv')"
   ]
  },
  {
   "cell_type": "code",
   "execution_count": 185,
   "metadata": {},
   "outputs": [],
   "source": [
    "ddf = pd.DataFrame(columns=['dim{}'.format(i) for i in range(feature_size)])"
   ]
  },
  {
   "cell_type": "code",
   "execution_count": 186,
   "metadata": {},
   "outputs": [],
   "source": [
    "for i, line in enumerate(df['content']):\n",
    "    vector = model.infer_vector(pre_doc(line))\n",
    "    ddf.loc[i] = vector"
   ]
  },
  {
   "cell_type": "code",
   "execution_count": 187,
   "metadata": {},
   "outputs": [
    {
     "data": {
      "text/html": [
       "<div>\n",
       "<style scoped>\n",
       "    .dataframe tbody tr th:only-of-type {\n",
       "        vertical-align: middle;\n",
       "    }\n",
       "\n",
       "    .dataframe tbody tr th {\n",
       "        vertical-align: top;\n",
       "    }\n",
       "\n",
       "    .dataframe thead th {\n",
       "        text-align: right;\n",
       "    }\n",
       "</style>\n",
       "<table border=\"1\" class=\"dataframe\">\n",
       "  <thead>\n",
       "    <tr style=\"text-align: right;\">\n",
       "      <th></th>\n",
       "      <th>dim0</th>\n",
       "      <th>dim1</th>\n",
       "      <th>dim2</th>\n",
       "      <th>dim3</th>\n",
       "      <th>dim4</th>\n",
       "      <th>dim5</th>\n",
       "      <th>dim6</th>\n",
       "      <th>dim7</th>\n",
       "      <th>dim8</th>\n",
       "      <th>dim9</th>\n",
       "      <th>...</th>\n",
       "      <th>dim290</th>\n",
       "      <th>dim291</th>\n",
       "      <th>dim292</th>\n",
       "      <th>dim293</th>\n",
       "      <th>dim294</th>\n",
       "      <th>dim295</th>\n",
       "      <th>dim296</th>\n",
       "      <th>dim297</th>\n",
       "      <th>dim298</th>\n",
       "      <th>dim299</th>\n",
       "    </tr>\n",
       "  </thead>\n",
       "  <tbody>\n",
       "    <tr>\n",
       "      <th>0</th>\n",
       "      <td>0.005715</td>\n",
       "      <td>0.014842</td>\n",
       "      <td>-0.029451</td>\n",
       "      <td>0.059574</td>\n",
       "      <td>-0.024024</td>\n",
       "      <td>-0.032527</td>\n",
       "      <td>-0.023325</td>\n",
       "      <td>0.007485</td>\n",
       "      <td>-0.019683</td>\n",
       "      <td>0.061700</td>\n",
       "      <td>...</td>\n",
       "      <td>-0.002086</td>\n",
       "      <td>0.016926</td>\n",
       "      <td>-0.056125</td>\n",
       "      <td>-0.011747</td>\n",
       "      <td>-0.030771</td>\n",
       "      <td>0.025235</td>\n",
       "      <td>-0.013046</td>\n",
       "      <td>-0.011786</td>\n",
       "      <td>0.012418</td>\n",
       "      <td>-0.002628</td>\n",
       "    </tr>\n",
       "    <tr>\n",
       "      <th>1</th>\n",
       "      <td>-0.015752</td>\n",
       "      <td>0.023767</td>\n",
       "      <td>-0.013724</td>\n",
       "      <td>0.038414</td>\n",
       "      <td>-0.017228</td>\n",
       "      <td>-0.040916</td>\n",
       "      <td>0.015745</td>\n",
       "      <td>0.012659</td>\n",
       "      <td>-0.008252</td>\n",
       "      <td>0.042249</td>\n",
       "      <td>...</td>\n",
       "      <td>0.001086</td>\n",
       "      <td>0.007130</td>\n",
       "      <td>-0.046009</td>\n",
       "      <td>-0.005499</td>\n",
       "      <td>-0.027451</td>\n",
       "      <td>0.006718</td>\n",
       "      <td>-0.000467</td>\n",
       "      <td>-0.000592</td>\n",
       "      <td>-0.012604</td>\n",
       "      <td>0.008060</td>\n",
       "    </tr>\n",
       "    <tr>\n",
       "      <th>2</th>\n",
       "      <td>0.008113</td>\n",
       "      <td>0.018890</td>\n",
       "      <td>-0.007853</td>\n",
       "      <td>0.019682</td>\n",
       "      <td>-0.017544</td>\n",
       "      <td>-0.035542</td>\n",
       "      <td>-0.029634</td>\n",
       "      <td>0.023031</td>\n",
       "      <td>0.020157</td>\n",
       "      <td>0.012318</td>\n",
       "      <td>...</td>\n",
       "      <td>-0.022084</td>\n",
       "      <td>-0.023343</td>\n",
       "      <td>-0.029284</td>\n",
       "      <td>-0.000827</td>\n",
       "      <td>0.004234</td>\n",
       "      <td>0.015758</td>\n",
       "      <td>-0.059801</td>\n",
       "      <td>-0.023415</td>\n",
       "      <td>-0.024622</td>\n",
       "      <td>0.010148</td>\n",
       "    </tr>\n",
       "  </tbody>\n",
       "</table>\n",
       "<p>3 rows × 300 columns</p>\n",
       "</div>"
      ],
      "text/plain": [
       "       dim0      dim1      dim2      dim3      dim4      dim5      dim6  \\\n",
       "0  0.005715  0.014842 -0.029451  0.059574 -0.024024 -0.032527 -0.023325   \n",
       "1 -0.015752  0.023767 -0.013724  0.038414 -0.017228 -0.040916  0.015745   \n",
       "2  0.008113  0.018890 -0.007853  0.019682 -0.017544 -0.035542 -0.029634   \n",
       "\n",
       "       dim7      dim8      dim9    ...       dim290    dim291    dim292  \\\n",
       "0  0.007485 -0.019683  0.061700    ...    -0.002086  0.016926 -0.056125   \n",
       "1  0.012659 -0.008252  0.042249    ...     0.001086  0.007130 -0.046009   \n",
       "2  0.023031  0.020157  0.012318    ...    -0.022084 -0.023343 -0.029284   \n",
       "\n",
       "     dim293    dim294    dim295    dim296    dim297    dim298    dim299  \n",
       "0 -0.011747 -0.030771  0.025235 -0.013046 -0.011786  0.012418 -0.002628  \n",
       "1 -0.005499 -0.027451  0.006718 -0.000467 -0.000592 -0.012604  0.008060  \n",
       "2 -0.000827  0.004234  0.015758 -0.059801 -0.023415 -0.024622  0.010148  \n",
       "\n",
       "[3 rows x 300 columns]"
      ]
     },
     "execution_count": 187,
     "metadata": {},
     "output_type": "execute_result"
    }
   ],
   "source": [
    "ddf.head(3)"
   ]
  },
  {
   "cell_type": "code",
   "execution_count": 188,
   "metadata": {},
   "outputs": [],
   "source": [
    "ddf.to_csv('../data/doc2vec_train.csv', index=False)"
   ]
  },
  {
   "cell_type": "code",
   "execution_count": 189,
   "metadata": {},
   "outputs": [
    {
     "data": {
      "text/html": [
       "<div>\n",
       "<style scoped>\n",
       "    .dataframe tbody tr th:only-of-type {\n",
       "        vertical-align: middle;\n",
       "    }\n",
       "\n",
       "    .dataframe tbody tr th {\n",
       "        vertical-align: top;\n",
       "    }\n",
       "\n",
       "    .dataframe thead th {\n",
       "        text-align: right;\n",
       "    }\n",
       "</style>\n",
       "<table border=\"1\" class=\"dataframe\">\n",
       "  <thead>\n",
       "    <tr style=\"text-align: right;\">\n",
       "      <th></th>\n",
       "      <th>dim0</th>\n",
       "      <th>dim1</th>\n",
       "      <th>dim2</th>\n",
       "      <th>dim3</th>\n",
       "      <th>dim4</th>\n",
       "      <th>dim5</th>\n",
       "      <th>dim6</th>\n",
       "      <th>dim7</th>\n",
       "      <th>dim8</th>\n",
       "      <th>dim9</th>\n",
       "      <th>...</th>\n",
       "      <th>dim290</th>\n",
       "      <th>dim291</th>\n",
       "      <th>dim292</th>\n",
       "      <th>dim293</th>\n",
       "      <th>dim294</th>\n",
       "      <th>dim295</th>\n",
       "      <th>dim296</th>\n",
       "      <th>dim297</th>\n",
       "      <th>dim298</th>\n",
       "      <th>dim299</th>\n",
       "    </tr>\n",
       "  </thead>\n",
       "  <tbody>\n",
       "    <tr>\n",
       "      <th>0</th>\n",
       "      <td>0.001245</td>\n",
       "      <td>0.005962</td>\n",
       "      <td>0.004733</td>\n",
       "      <td>0.008307</td>\n",
       "      <td>-0.019745</td>\n",
       "      <td>-0.003737</td>\n",
       "      <td>0.006057</td>\n",
       "      <td>-0.018863</td>\n",
       "      <td>-0.030885</td>\n",
       "      <td>-0.002766</td>\n",
       "      <td>...</td>\n",
       "      <td>-0.007964</td>\n",
       "      <td>0.004064</td>\n",
       "      <td>-0.012269</td>\n",
       "      <td>-0.022594</td>\n",
       "      <td>-0.004643</td>\n",
       "      <td>0.005034</td>\n",
       "      <td>-0.001102</td>\n",
       "      <td>-0.011358</td>\n",
       "      <td>0.006864</td>\n",
       "      <td>-0.023441</td>\n",
       "    </tr>\n",
       "    <tr>\n",
       "      <th>1</th>\n",
       "      <td>-0.002187</td>\n",
       "      <td>0.007707</td>\n",
       "      <td>-0.001188</td>\n",
       "      <td>-0.022830</td>\n",
       "      <td>0.002774</td>\n",
       "      <td>0.014018</td>\n",
       "      <td>-0.001150</td>\n",
       "      <td>0.005699</td>\n",
       "      <td>0.016225</td>\n",
       "      <td>-0.035436</td>\n",
       "      <td>...</td>\n",
       "      <td>0.002870</td>\n",
       "      <td>-0.032379</td>\n",
       "      <td>0.006623</td>\n",
       "      <td>0.002371</td>\n",
       "      <td>0.001698</td>\n",
       "      <td>-0.001728</td>\n",
       "      <td>0.004181</td>\n",
       "      <td>-0.021773</td>\n",
       "      <td>0.000885</td>\n",
       "      <td>-0.005230</td>\n",
       "    </tr>\n",
       "    <tr>\n",
       "      <th>2</th>\n",
       "      <td>-0.016399</td>\n",
       "      <td>0.008509</td>\n",
       "      <td>-0.000153</td>\n",
       "      <td>-0.005113</td>\n",
       "      <td>0.005511</td>\n",
       "      <td>-0.001086</td>\n",
       "      <td>0.010200</td>\n",
       "      <td>0.007638</td>\n",
       "      <td>0.016311</td>\n",
       "      <td>0.014070</td>\n",
       "      <td>...</td>\n",
       "      <td>0.022500</td>\n",
       "      <td>0.002564</td>\n",
       "      <td>-0.001131</td>\n",
       "      <td>0.006677</td>\n",
       "      <td>0.000816</td>\n",
       "      <td>0.002319</td>\n",
       "      <td>0.037299</td>\n",
       "      <td>0.022175</td>\n",
       "      <td>0.012347</td>\n",
       "      <td>0.005067</td>\n",
       "    </tr>\n",
       "  </tbody>\n",
       "</table>\n",
       "<p>3 rows × 300 columns</p>\n",
       "</div>"
      ],
      "text/plain": [
       "       dim0      dim1      dim2      dim3      dim4      dim5      dim6  \\\n",
       "0  0.001245  0.005962  0.004733  0.008307 -0.019745 -0.003737  0.006057   \n",
       "1 -0.002187  0.007707 -0.001188 -0.022830  0.002774  0.014018 -0.001150   \n",
       "2 -0.016399  0.008509 -0.000153 -0.005113  0.005511 -0.001086  0.010200   \n",
       "\n",
       "       dim7      dim8      dim9    ...       dim290    dim291    dim292  \\\n",
       "0 -0.018863 -0.030885 -0.002766    ...    -0.007964  0.004064 -0.012269   \n",
       "1  0.005699  0.016225 -0.035436    ...     0.002870 -0.032379  0.006623   \n",
       "2  0.007638  0.016311  0.014070    ...     0.022500  0.002564 -0.001131   \n",
       "\n",
       "     dim293    dim294    dim295    dim296    dim297    dim298    dim299  \n",
       "0 -0.022594 -0.004643  0.005034 -0.001102 -0.011358  0.006864 -0.023441  \n",
       "1  0.002371  0.001698 -0.001728  0.004181 -0.021773  0.000885 -0.005230  \n",
       "2  0.006677  0.000816  0.002319  0.037299  0.022175  0.012347  0.005067  \n",
       "\n",
       "[3 rows x 300 columns]"
      ]
     },
     "execution_count": 189,
     "metadata": {},
     "output_type": "execute_result"
    }
   ],
   "source": [
    "test_ddf = pd.DataFrame(columns=['dim{}'.format(i) for i in range(feature_size)])\n",
    "for i, line in enumerate(test_df['content']):\n",
    "    vector = model.infer_vector(pre_doc(line))\n",
    "    test_ddf.loc[i] = vector\n",
    "test_ddf.head(3)"
   ]
  },
  {
   "cell_type": "code",
   "execution_count": 190,
   "metadata": {},
   "outputs": [],
   "source": [
    "test_ddf.to_csv('../data/doc2vec_test.csv', index=False)"
   ]
  },
  {
   "cell_type": "markdown",
   "metadata": {},
   "source": [
    "### 合并doc2vec和之前的merge特征"
   ]
  },
  {
   "cell_type": "code",
   "execution_count": 191,
   "metadata": {},
   "outputs": [
    {
     "data": {
      "text/html": [
       "<div>\n",
       "<style scoped>\n",
       "    .dataframe tbody tr th:only-of-type {\n",
       "        vertical-align: middle;\n",
       "    }\n",
       "\n",
       "    .dataframe tbody tr th {\n",
       "        vertical-align: top;\n",
       "    }\n",
       "\n",
       "    .dataframe thead th {\n",
       "        text-align: right;\n",
       "    }\n",
       "</style>\n",
       "<table border=\"1\" class=\"dataframe\">\n",
       "  <thead>\n",
       "    <tr style=\"text-align: right;\">\n",
       "      <th></th>\n",
       "      <th>车多</th>\n",
       "      <th>再就是</th>\n",
       "      <th>干什么</th>\n",
       "      <th>没得说</th>\n",
       "      <th>降档</th>\n",
       "      <th>少有</th>\n",
       "      <th>主力</th>\n",
       "      <th>满满的</th>\n",
       "      <th>算是</th>\n",
       "      <th>第一个</th>\n",
       "      <th>...</th>\n",
       "      <th>dim290</th>\n",
       "      <th>dim291</th>\n",
       "      <th>dim292</th>\n",
       "      <th>dim293</th>\n",
       "      <th>dim294</th>\n",
       "      <th>dim295</th>\n",
       "      <th>dim296</th>\n",
       "      <th>dim297</th>\n",
       "      <th>dim298</th>\n",
       "      <th>dim299</th>\n",
       "    </tr>\n",
       "  </thead>\n",
       "  <tbody>\n",
       "    <tr>\n",
       "      <th>0</th>\n",
       "      <td>0</td>\n",
       "      <td>0</td>\n",
       "      <td>0</td>\n",
       "      <td>0</td>\n",
       "      <td>0</td>\n",
       "      <td>0</td>\n",
       "      <td>0</td>\n",
       "      <td>0</td>\n",
       "      <td>0</td>\n",
       "      <td>0</td>\n",
       "      <td>...</td>\n",
       "      <td>-0.002086</td>\n",
       "      <td>0.016926</td>\n",
       "      <td>-0.056125</td>\n",
       "      <td>-0.011747</td>\n",
       "      <td>-0.030771</td>\n",
       "      <td>0.025235</td>\n",
       "      <td>-0.013046</td>\n",
       "      <td>-0.011786</td>\n",
       "      <td>0.012418</td>\n",
       "      <td>-0.002628</td>\n",
       "    </tr>\n",
       "    <tr>\n",
       "      <th>1</th>\n",
       "      <td>0</td>\n",
       "      <td>0</td>\n",
       "      <td>0</td>\n",
       "      <td>0</td>\n",
       "      <td>0</td>\n",
       "      <td>0</td>\n",
       "      <td>0</td>\n",
       "      <td>0</td>\n",
       "      <td>0</td>\n",
       "      <td>0</td>\n",
       "      <td>...</td>\n",
       "      <td>0.001086</td>\n",
       "      <td>0.007130</td>\n",
       "      <td>-0.046009</td>\n",
       "      <td>-0.005499</td>\n",
       "      <td>-0.027451</td>\n",
       "      <td>0.006718</td>\n",
       "      <td>-0.000467</td>\n",
       "      <td>-0.000592</td>\n",
       "      <td>-0.012604</td>\n",
       "      <td>0.008060</td>\n",
       "    </tr>\n",
       "    <tr>\n",
       "      <th>2</th>\n",
       "      <td>0</td>\n",
       "      <td>0</td>\n",
       "      <td>0</td>\n",
       "      <td>0</td>\n",
       "      <td>0</td>\n",
       "      <td>0</td>\n",
       "      <td>0</td>\n",
       "      <td>0</td>\n",
       "      <td>0</td>\n",
       "      <td>0</td>\n",
       "      <td>...</td>\n",
       "      <td>-0.022084</td>\n",
       "      <td>-0.023343</td>\n",
       "      <td>-0.029284</td>\n",
       "      <td>-0.000827</td>\n",
       "      <td>0.004234</td>\n",
       "      <td>0.015758</td>\n",
       "      <td>-0.059801</td>\n",
       "      <td>-0.023415</td>\n",
       "      <td>-0.024622</td>\n",
       "      <td>0.010148</td>\n",
       "    </tr>\n",
       "  </tbody>\n",
       "</table>\n",
       "<p>3 rows × 3841 columns</p>\n",
       "</div>"
      ],
      "text/plain": [
       "   车多  再就是  干什么  没得说  降档  少有  主力  满满的  算是  第一个    ...       dim290    dim291  \\\n",
       "0   0    0    0    0   0   0   0    0   0    0    ...    -0.002086  0.016926   \n",
       "1   0    0    0    0   0   0   0    0   0    0    ...     0.001086  0.007130   \n",
       "2   0    0    0    0   0   0   0    0   0    0    ...    -0.022084 -0.023343   \n",
       "\n",
       "     dim292    dim293    dim294    dim295    dim296    dim297    dim298  \\\n",
       "0 -0.056125 -0.011747 -0.030771  0.025235 -0.013046 -0.011786  0.012418   \n",
       "1 -0.046009 -0.005499 -0.027451  0.006718 -0.000467 -0.000592 -0.012604   \n",
       "2 -0.029284 -0.000827  0.004234  0.015758 -0.059801 -0.023415 -0.024622   \n",
       "\n",
       "     dim299  \n",
       "0 -0.002628  \n",
       "1  0.008060  \n",
       "2  0.010148  \n",
       "\n",
       "[3 rows x 3841 columns]"
      ]
     },
     "execution_count": 191,
     "metadata": {},
     "output_type": "execute_result"
    }
   ],
   "source": [
    "ddf = pd.read_csv('../data/doc2vec_train.csv')\n",
    "mdf = pd.read_csv('../data/merge_train.csv')\n",
    "mddf = pd.merge(mdf, ddf, left_index=True, right_index=True)\n",
    "mddf.head(3)"
   ]
  },
  {
   "cell_type": "code",
   "execution_count": 196,
   "metadata": {},
   "outputs": [],
   "source": [
    "mddf.to_csv('../data/merge1_train.csv', index=False)"
   ]
  },
  {
   "cell_type": "code",
   "execution_count": 194,
   "metadata": {},
   "outputs": [
    {
     "data": {
      "text/html": [
       "<div>\n",
       "<style scoped>\n",
       "    .dataframe tbody tr th:only-of-type {\n",
       "        vertical-align: middle;\n",
       "    }\n",
       "\n",
       "    .dataframe tbody tr th {\n",
       "        vertical-align: top;\n",
       "    }\n",
       "\n",
       "    .dataframe thead th {\n",
       "        text-align: right;\n",
       "    }\n",
       "</style>\n",
       "<table border=\"1\" class=\"dataframe\">\n",
       "  <thead>\n",
       "    <tr style=\"text-align: right;\">\n",
       "      <th></th>\n",
       "      <th>车多</th>\n",
       "      <th>再就是</th>\n",
       "      <th>干什么</th>\n",
       "      <th>没得说</th>\n",
       "      <th>降档</th>\n",
       "      <th>少有</th>\n",
       "      <th>主力</th>\n",
       "      <th>满满的</th>\n",
       "      <th>算是</th>\n",
       "      <th>第一个</th>\n",
       "      <th>...</th>\n",
       "      <th>dim290</th>\n",
       "      <th>dim291</th>\n",
       "      <th>dim292</th>\n",
       "      <th>dim293</th>\n",
       "      <th>dim294</th>\n",
       "      <th>dim295</th>\n",
       "      <th>dim296</th>\n",
       "      <th>dim297</th>\n",
       "      <th>dim298</th>\n",
       "      <th>dim299</th>\n",
       "    </tr>\n",
       "  </thead>\n",
       "  <tbody>\n",
       "    <tr>\n",
       "      <th>0</th>\n",
       "      <td>0</td>\n",
       "      <td>0</td>\n",
       "      <td>0</td>\n",
       "      <td>0</td>\n",
       "      <td>0</td>\n",
       "      <td>0</td>\n",
       "      <td>0</td>\n",
       "      <td>0</td>\n",
       "      <td>0</td>\n",
       "      <td>0</td>\n",
       "      <td>...</td>\n",
       "      <td>-0.007964</td>\n",
       "      <td>0.004064</td>\n",
       "      <td>-0.012269</td>\n",
       "      <td>-0.022594</td>\n",
       "      <td>-0.004643</td>\n",
       "      <td>0.005034</td>\n",
       "      <td>-0.001102</td>\n",
       "      <td>-0.011358</td>\n",
       "      <td>0.006864</td>\n",
       "      <td>-0.023441</td>\n",
       "    </tr>\n",
       "    <tr>\n",
       "      <th>1</th>\n",
       "      <td>0</td>\n",
       "      <td>0</td>\n",
       "      <td>0</td>\n",
       "      <td>0</td>\n",
       "      <td>0</td>\n",
       "      <td>0</td>\n",
       "      <td>0</td>\n",
       "      <td>0</td>\n",
       "      <td>0</td>\n",
       "      <td>0</td>\n",
       "      <td>...</td>\n",
       "      <td>0.002870</td>\n",
       "      <td>-0.032379</td>\n",
       "      <td>0.006623</td>\n",
       "      <td>0.002371</td>\n",
       "      <td>0.001698</td>\n",
       "      <td>-0.001728</td>\n",
       "      <td>0.004181</td>\n",
       "      <td>-0.021773</td>\n",
       "      <td>0.000885</td>\n",
       "      <td>-0.005230</td>\n",
       "    </tr>\n",
       "    <tr>\n",
       "      <th>2</th>\n",
       "      <td>0</td>\n",
       "      <td>0</td>\n",
       "      <td>0</td>\n",
       "      <td>0</td>\n",
       "      <td>0</td>\n",
       "      <td>0</td>\n",
       "      <td>0</td>\n",
       "      <td>0</td>\n",
       "      <td>0</td>\n",
       "      <td>0</td>\n",
       "      <td>...</td>\n",
       "      <td>0.022500</td>\n",
       "      <td>0.002564</td>\n",
       "      <td>-0.001131</td>\n",
       "      <td>0.006677</td>\n",
       "      <td>0.000816</td>\n",
       "      <td>0.002319</td>\n",
       "      <td>0.037299</td>\n",
       "      <td>0.022175</td>\n",
       "      <td>0.012347</td>\n",
       "      <td>0.005067</td>\n",
       "    </tr>\n",
       "  </tbody>\n",
       "</table>\n",
       "<p>3 rows × 3841 columns</p>\n",
       "</div>"
      ],
      "text/plain": [
       "   车多  再就是  干什么  没得说  降档  少有  主力  满满的  算是  第一个    ...       dim290    dim291  \\\n",
       "0   0    0    0    0   0   0   0    0   0    0    ...    -0.007964  0.004064   \n",
       "1   0    0    0    0   0   0   0    0   0    0    ...     0.002870 -0.032379   \n",
       "2   0    0    0    0   0   0   0    0   0    0    ...     0.022500  0.002564   \n",
       "\n",
       "     dim292    dim293    dim294    dim295    dim296    dim297    dim298  \\\n",
       "0 -0.012269 -0.022594 -0.004643  0.005034 -0.001102 -0.011358  0.006864   \n",
       "1  0.006623  0.002371  0.001698 -0.001728  0.004181 -0.021773  0.000885   \n",
       "2 -0.001131  0.006677  0.000816  0.002319  0.037299  0.022175  0.012347   \n",
       "\n",
       "     dim299  \n",
       "0 -0.023441  \n",
       "1 -0.005230  \n",
       "2  0.005067  \n",
       "\n",
       "[3 rows x 3841 columns]"
      ]
     },
     "execution_count": 194,
     "metadata": {},
     "output_type": "execute_result"
    }
   ],
   "source": [
    "test_ddf = pd.read_csv('../data/doc2vec_test.csv')\n",
    "test_mdf = pd.read_csv('../data/merge_test.csv')\n",
    "test_mddf = pd.merge(test_mdf, test_ddf, left_index=True, right_index=True)\n",
    "test_mddf.head(3)"
   ]
  },
  {
   "cell_type": "code",
   "execution_count": 197,
   "metadata": {},
   "outputs": [],
   "source": [
    "test_mddf.to_csv('../data/merge1_test.csv', index=False)"
   ]
  },
  {
   "cell_type": "code",
   "execution_count": null,
   "metadata": {},
   "outputs": [],
   "source": []
  }
 ],
 "metadata": {
  "kernelspec": {
   "display_name": "Python 3",
   "language": "python",
   "name": "python3"
  },
  "language_info": {
   "codemirror_mode": {
    "name": "ipython",
    "version": 3
   },
   "file_extension": ".py",
   "mimetype": "text/x-python",
   "name": "python",
   "nbconvert_exporter": "python",
   "pygments_lexer": "ipython3",
   "version": "3.6.4"
  }
 },
 "nbformat": 4,
 "nbformat_minor": 2
}
